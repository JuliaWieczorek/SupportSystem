{
 "cells": [
  {
   "cell_type": "code",
   "execution_count": 1,
   "metadata": {},
   "outputs": [],
   "source": [
    "import json\n",
    "import pandas as pd\n",
    "import seaborn as sns\n",
    "import matplotlib.pyplot as plt\n",
    "%matplotlib inline\n",
    "\n",
    "import nltk\n",
    "from nltk import *\n",
    "from nltk.text import Text\n",
    "import string\n",
    "from nltk.corpus import stopwords\n",
    "from nltk.tokenize import RegexpTokenizer\n",
    "from nltk.stem import WordNetLemmatizer\n",
    "from nltk.stem.porter import PorterStemmer"
   ]
  },
  {
   "cell_type": "markdown",
   "metadata": {},
   "source": [
    "## Data Exploration"
   ]
  },
  {
   "cell_type": "code",
   "execution_count": 2,
   "metadata": {},
   "outputs": [],
   "source": [
    "file_path = \"ESConv.json\"\n",
    "\n",
    "with open(file_path, \"r\", encoding=\"utf-8\") as file:\n",
    "    dataset = json.load(file)"
   ]
  },
  {
   "cell_type": "code",
   "execution_count": 3,
   "metadata": {},
   "outputs": [
    {
     "name": "stdout",
     "output_type": "stream",
     "text": [
      "{'experience_type': 'Previous Experience', 'emotion_type': 'anxiety', 'problem_type': 'job crisis', 'situation': 'I hate my job but I am scared to quit and seek a new career.', 'survey_score': {'seeker': {'initial_emotion_intensity': '5', 'empathy': '5', 'relevance': '5', 'final_emotion_intensity': '1'}, 'supporter': {'relevance': '5'}}, 'dialog': [{'speaker': 'seeker', 'annotation': {}, 'content': 'Hello\\n'}, {'speaker': 'supporter', 'annotation': {'strategy': 'Question'}, 'content': 'Hello, what would you like to talk about?'}, {'speaker': 'seeker', 'annotation': {}, 'content': 'I am having a lot of anxiety about quitting my current job. It is too stressful but pays well\\n'}, {'speaker': 'supporter', 'annotation': {'strategy': 'Question'}, 'content': 'What makes your job stressful for you?'}, {'speaker': 'seeker', 'annotation': {'feedback': '5'}, 'content': 'I have to deal with many people in hard financial situations and it is upsetting \\n'}, {'speaker': 'supporter', 'annotation': {'strategy': 'Question'}, 'content': 'Do you help your clients to make it to a better financial situation?'}, {'speaker': 'seeker', 'annotation': {}, 'content': 'I do, but often they are not going to get back to what they want. Many people are going to lose their home when safeguards are lifted \\n'}, {'speaker': 'supporter', 'annotation': {'strategy': 'Affirmation and Reassurance'}, 'content': 'But you offer them a better future than what they have currently. It may not be what they wanted, but it helps them in the long run.'}, {'speaker': 'seeker', 'annotation': {'feedback': '5'}, 'content': 'That is true but sometimes I feel like I should put my feelings and health first \\n'}, {'speaker': 'supporter', 'annotation': {'strategy': 'Affirmation and Reassurance'}, 'content': 'I can understand that. '}, {'speaker': 'supporter', 'annotation': {'strategy': 'Question'}, 'content': 'Is there another job that would pay you close to what you currently make?'}, {'speaker': 'seeker', 'annotation': {'feedback': '5'}, 'content': 'Probably not. I was with the same company for a long time and I consistently get a bonus every year '}, {'speaker': 'supporter', 'annotation': {'strategy': 'Others'}, 'content': \"Is it possible to reframe how you look at your clients' dire financial situations?\"}, {'speaker': 'seeker', 'annotation': {}, 'content': 'I could try. It mostly gets to me at the end of the day \\n'}, {'speaker': 'supporter', 'annotation': {'strategy': 'Information'}, 'content': \"Some people can't do what you do because they don't have the heart to give someone else bad news. The reality is though, someone needs to fill that role and you do help people\"}, {'speaker': 'seeker', 'annotation': {'feedback': '4'}, 'content': 'That is also true. Sometimes I wonder if it really is for me though  \\n'}, {'speaker': 'supporter', 'annotation': {'strategy': 'Self-disclosure'}, 'content': \"I've had to deal with collections before when I was in  bad financial condition. The person on the other line was really helpful though. She was understanding,\"}, {'speaker': 'supporter', 'annotation': {'strategy': 'Providing Suggestions'}, 'content': 'It may not be for you. I think you should think about the pros and cons of keeping your position. It might make things clearer for you. '}, {'speaker': 'seeker', 'annotation': {'feedback': '5'}, 'content': 'That is true. Maybe I just need to sit down and really think about it \\n'}, {'speaker': 'supporter', 'annotation': {'strategy': 'Restatement or Paraphrasing'}, 'content': \"I wouldn't stay if it really impacts your mental health in a negative way. Still, you may need to zoom out and see the bigger picture: that you provide a needed service and you do it compassionately\"}, {'speaker': 'seeker', 'annotation': {}, 'content': 'It really is a big decision \\n'}, {'speaker': 'seeker', 'annotation': {}, 'content': 'Thank you for the different perspective \\n'}, {'speaker': 'supporter', 'annotation': {'strategy': 'Affirmation and Reassurance'}, 'content': 'No doubt, but you know in your heart what is right for you. '}, {'speaker': 'seeker', 'annotation': {'feedback': '4'}, 'content': 'That is true. Thanks again \\n'}, {'speaker': 'seeker', 'annotation': {}, 'content': 'Bye\\n'}, {'speaker': 'supporter', 'annotation': {'strategy': 'Affirmation and Reassurance'}, 'content': \"It's no problem. I hope you can make a decision about this situation and then be at peace with it\"}, {'speaker': 'supporter', 'annotation': {'strategy': 'Others'}, 'content': 'Ok, take care'}], 'seeker_question1': 'Partner was very supportive', 'seeker_question2': 'More guidance in conversation or examples', 'supporter_question1': '', 'supporter_question2': ''}\n"
     ]
    }
   ],
   "source": [
    "# Access and print the first conversation\n",
    "conversation = dataset[0]\n",
    "print(conversation)"
   ]
  },
  {
   "cell_type": "code",
   "execution_count": 4,
   "metadata": {},
   "outputs": [],
   "source": [
    "# Access specific fields within the first conversation\n",
    "experience_type = conversation[\"experience_type\"]\n",
    "emotion_type = conversation[\"emotion_type\"]\n",
    "problem_type = conversation[\"problem_type\"]\n",
    "situation = conversation[\"situation\"]\n",
    "survey_score = conversation[\"survey_score\"]\n",
    "survey_score_seeker = conversation[\"survey_score\"][\"seeker\"]\n",
    "survey_score_supporter = conversation[\"survey_score\"][\"supporter\"]\n",
    "dialog = conversation[\"dialog\"]"
   ]
  },
  {
   "cell_type": "code",
   "execution_count": 5,
   "metadata": {},
   "outputs": [
    {
     "data": {
      "text/plain": [
       "'Previous Experience'"
      ]
     },
     "execution_count": 5,
     "metadata": {},
     "output_type": "execute_result"
    }
   ],
   "source": [
    "experience_type"
   ]
  },
  {
   "cell_type": "code",
   "execution_count": 6,
   "metadata": {},
   "outputs": [
    {
     "data": {
      "text/plain": [
       "'anxiety'"
      ]
     },
     "execution_count": 6,
     "metadata": {},
     "output_type": "execute_result"
    }
   ],
   "source": [
    "emotion_type"
   ]
  },
  {
   "cell_type": "code",
   "execution_count": 7,
   "metadata": {},
   "outputs": [
    {
     "data": {
      "text/plain": [
       "'job crisis'"
      ]
     },
     "execution_count": 7,
     "metadata": {},
     "output_type": "execute_result"
    }
   ],
   "source": [
    "problem_type"
   ]
  },
  {
   "cell_type": "code",
   "execution_count": 8,
   "metadata": {},
   "outputs": [
    {
     "data": {
      "text/plain": [
       "'I hate my job but I am scared to quit and seek a new career.'"
      ]
     },
     "execution_count": 8,
     "metadata": {},
     "output_type": "execute_result"
    }
   ],
   "source": [
    "situation"
   ]
  },
  {
   "cell_type": "code",
   "execution_count": 9,
   "metadata": {},
   "outputs": [
    {
     "data": {
      "text/plain": [
       "{'seeker': {'initial_emotion_intensity': '5',\n",
       "  'empathy': '5',\n",
       "  'relevance': '5',\n",
       "  'final_emotion_intensity': '1'},\n",
       " 'supporter': {'relevance': '5'}}"
      ]
     },
     "execution_count": 9,
     "metadata": {},
     "output_type": "execute_result"
    }
   ],
   "source": [
    "survey_score"
   ]
  },
  {
   "cell_type": "code",
   "execution_count": 10,
   "metadata": {},
   "outputs": [
    {
     "data": {
      "text/plain": [
       "{'initial_emotion_intensity': '5',\n",
       " 'empathy': '5',\n",
       " 'relevance': '5',\n",
       " 'final_emotion_intensity': '1'}"
      ]
     },
     "execution_count": 10,
     "metadata": {},
     "output_type": "execute_result"
    }
   ],
   "source": [
    "survey_score_seeker"
   ]
  },
  {
   "cell_type": "code",
   "execution_count": 11,
   "metadata": {},
   "outputs": [
    {
     "data": {
      "text/plain": [
       "{'relevance': '5'}"
      ]
     },
     "execution_count": 11,
     "metadata": {},
     "output_type": "execute_result"
    }
   ],
   "source": [
    "survey_score_supporter"
   ]
  },
  {
   "cell_type": "code",
   "execution_count": 12,
   "metadata": {},
   "outputs": [
    {
     "data": {
      "text/plain": [
       "[{'speaker': 'seeker', 'annotation': {}, 'content': 'Hello\\n'},\n",
       " {'speaker': 'supporter',\n",
       "  'annotation': {'strategy': 'Question'},\n",
       "  'content': 'Hello, what would you like to talk about?'},\n",
       " {'speaker': 'seeker',\n",
       "  'annotation': {},\n",
       "  'content': 'I am having a lot of anxiety about quitting my current job. It is too stressful but pays well\\n'},\n",
       " {'speaker': 'supporter',\n",
       "  'annotation': {'strategy': 'Question'},\n",
       "  'content': 'What makes your job stressful for you?'},\n",
       " {'speaker': 'seeker',\n",
       "  'annotation': {'feedback': '5'},\n",
       "  'content': 'I have to deal with many people in hard financial situations and it is upsetting \\n'},\n",
       " {'speaker': 'supporter',\n",
       "  'annotation': {'strategy': 'Question'},\n",
       "  'content': 'Do you help your clients to make it to a better financial situation?'},\n",
       " {'speaker': 'seeker',\n",
       "  'annotation': {},\n",
       "  'content': 'I do, but often they are not going to get back to what they want. Many people are going to lose their home when safeguards are lifted \\n'},\n",
       " {'speaker': 'supporter',\n",
       "  'annotation': {'strategy': 'Affirmation and Reassurance'},\n",
       "  'content': 'But you offer them a better future than what they have currently. It may not be what they wanted, but it helps them in the long run.'},\n",
       " {'speaker': 'seeker',\n",
       "  'annotation': {'feedback': '5'},\n",
       "  'content': 'That is true but sometimes I feel like I should put my feelings and health first \\n'},\n",
       " {'speaker': 'supporter',\n",
       "  'annotation': {'strategy': 'Affirmation and Reassurance'},\n",
       "  'content': 'I can understand that. '},\n",
       " {'speaker': 'supporter',\n",
       "  'annotation': {'strategy': 'Question'},\n",
       "  'content': 'Is there another job that would pay you close to what you currently make?'},\n",
       " {'speaker': 'seeker',\n",
       "  'annotation': {'feedback': '5'},\n",
       "  'content': 'Probably not. I was with the same company for a long time and I consistently get a bonus every year '},\n",
       " {'speaker': 'supporter',\n",
       "  'annotation': {'strategy': 'Others'},\n",
       "  'content': \"Is it possible to reframe how you look at your clients' dire financial situations?\"},\n",
       " {'speaker': 'seeker',\n",
       "  'annotation': {},\n",
       "  'content': 'I could try. It mostly gets to me at the end of the day \\n'},\n",
       " {'speaker': 'supporter',\n",
       "  'annotation': {'strategy': 'Information'},\n",
       "  'content': \"Some people can't do what you do because they don't have the heart to give someone else bad news. The reality is though, someone needs to fill that role and you do help people\"},\n",
       " {'speaker': 'seeker',\n",
       "  'annotation': {'feedback': '4'},\n",
       "  'content': 'That is also true. Sometimes I wonder if it really is for me though  \\n'},\n",
       " {'speaker': 'supporter',\n",
       "  'annotation': {'strategy': 'Self-disclosure'},\n",
       "  'content': \"I've had to deal with collections before when I was in  bad financial condition. The person on the other line was really helpful though. She was understanding,\"},\n",
       " {'speaker': 'supporter',\n",
       "  'annotation': {'strategy': 'Providing Suggestions'},\n",
       "  'content': 'It may not be for you. I think you should think about the pros and cons of keeping your position. It might make things clearer for you. '},\n",
       " {'speaker': 'seeker',\n",
       "  'annotation': {'feedback': '5'},\n",
       "  'content': 'That is true. Maybe I just need to sit down and really think about it \\n'},\n",
       " {'speaker': 'supporter',\n",
       "  'annotation': {'strategy': 'Restatement or Paraphrasing'},\n",
       "  'content': \"I wouldn't stay if it really impacts your mental health in a negative way. Still, you may need to zoom out and see the bigger picture: that you provide a needed service and you do it compassionately\"},\n",
       " {'speaker': 'seeker',\n",
       "  'annotation': {},\n",
       "  'content': 'It really is a big decision \\n'},\n",
       " {'speaker': 'seeker',\n",
       "  'annotation': {},\n",
       "  'content': 'Thank you for the different perspective \\n'},\n",
       " {'speaker': 'supporter',\n",
       "  'annotation': {'strategy': 'Affirmation and Reassurance'},\n",
       "  'content': 'No doubt, but you know in your heart what is right for you. '},\n",
       " {'speaker': 'seeker',\n",
       "  'annotation': {'feedback': '4'},\n",
       "  'content': 'That is true. Thanks again \\n'},\n",
       " {'speaker': 'seeker', 'annotation': {}, 'content': 'Bye\\n'},\n",
       " {'speaker': 'supporter',\n",
       "  'annotation': {'strategy': 'Affirmation and Reassurance'},\n",
       "  'content': \"It's no problem. I hope you can make a decision about this situation and then be at peace with it\"},\n",
       " {'speaker': 'supporter',\n",
       "  'annotation': {'strategy': 'Others'},\n",
       "  'content': 'Ok, take care'}]"
      ]
     },
     "execution_count": 12,
     "metadata": {},
     "output_type": "execute_result"
    }
   ],
   "source": [
    "dialog"
   ]
  },
  {
   "cell_type": "code",
   "execution_count": 13,
   "metadata": {},
   "outputs": [
    {
     "name": "stdout",
     "output_type": "stream",
     "text": [
      "seeker: Hello\n",
      "\n",
      "supporter: Hello, what would you like to talk about?\n",
      "seeker: I am having a lot of anxiety about quitting my current job. It is too stressful but pays well\n",
      "\n",
      "supporter: What makes your job stressful for you?\n",
      "seeker: I have to deal with many people in hard financial situations and it is upsetting \n",
      "\n",
      "supporter: Do you help your clients to make it to a better financial situation?\n",
      "seeker: I do, but often they are not going to get back to what they want. Many people are going to lose their home when safeguards are lifted \n",
      "\n",
      "supporter: But you offer them a better future than what they have currently. It may not be what they wanted, but it helps them in the long run.\n",
      "seeker: That is true but sometimes I feel like I should put my feelings and health first \n",
      "\n",
      "supporter: I can understand that. \n",
      "supporter: Is there another job that would pay you close to what you currently make?\n",
      "seeker: Probably not. I was with the same company for a long time and I consistently get a bonus every year \n",
      "supporter: Is it possible to reframe how you look at your clients' dire financial situations?\n",
      "seeker: I could try. It mostly gets to me at the end of the day \n",
      "\n",
      "supporter: Some people can't do what you do because they don't have the heart to give someone else bad news. The reality is though, someone needs to fill that role and you do help people\n",
      "seeker: That is also true. Sometimes I wonder if it really is for me though  \n",
      "\n",
      "supporter: I've had to deal with collections before when I was in  bad financial condition. The person on the other line was really helpful though. She was understanding,\n",
      "supporter: It may not be for you. I think you should think about the pros and cons of keeping your position. It might make things clearer for you. \n",
      "seeker: That is true. Maybe I just need to sit down and really think about it \n",
      "\n",
      "supporter: I wouldn't stay if it really impacts your mental health in a negative way. Still, you may need to zoom out and see the bigger picture: that you provide a needed service and you do it compassionately\n",
      "seeker: It really is a big decision \n",
      "\n",
      "seeker: Thank you for the different perspective \n",
      "\n",
      "supporter: No doubt, but you know in your heart what is right for you. \n",
      "seeker: That is true. Thanks again \n",
      "\n",
      "seeker: Bye\n",
      "\n",
      "supporter: It's no problem. I hope you can make a decision about this situation and then be at peace with it\n",
      "supporter: Ok, take care\n"
     ]
    }
   ],
   "source": [
    "dialog = conversation[\"dialog\"]\n",
    "for message in dialog:\n",
    "    speaker = message[\"speaker\"]\n",
    "    content = message[\"content\"]\n",
    "    print(f\"{speaker}: {content}\")"
   ]
  },
  {
   "cell_type": "code",
   "execution_count": 14,
   "metadata": {},
   "outputs": [
    {
     "name": "stdout",
     "output_type": "stream",
     "text": [
      "Seeker's question 1: Partner was very supportive\n",
      "Supporter's question 2: \n"
     ]
    }
   ],
   "source": [
    "# Access the seeker's first question\n",
    "seeker_question1 = conversation[\"seeker_question1\"]\n",
    "print(\"Seeker's question 1:\", seeker_question1)\n",
    "\n",
    "# Access the supporter's second question\n",
    "supporter_question2 = conversation[\"supporter_question2\"]\n",
    "print(\"Supporter's question 2:\", supporter_question2)"
   ]
  },
  {
   "cell_type": "code",
   "execution_count": 15,
   "metadata": {},
   "outputs": [],
   "source": [
    "def lexical_diversity(text):\n",
    "    return len(text) / word_type(text)\n",
    "\n",
    "# bogactwo lexicalne, kazde slowo jest uzywane srednio x razy"
   ]
  },
  {
   "cell_type": "code",
   "execution_count": 16,
   "metadata": {},
   "outputs": [],
   "source": [
    "def percentage(word, text):\n",
    "    count = text.count(word) # ile razy zostalo uzyte konkretne slowo\n",
    "    return 100 * count / len(text)"
   ]
  },
  {
   "cell_type": "code",
   "execution_count": 17,
   "metadata": {},
   "outputs": [],
   "source": [
    "def word_type(text):\n",
    "    return len(set(text))\n",
    " # w taki sposob moge uzyskac statystyke ile przecietnie pojedynczych slow (word type) uzywa jeden czlowiek na rozmowe"
   ]
  },
  {
   "cell_type": "code",
   "execution_count": 18,
   "metadata": {},
   "outputs": [],
   "source": [
    "dialog = conversation[\"dialog\"]\n",
    "first_conv = []\n",
    "first_conv_str = \"\"\n",
    "for message in dialog:\n",
    "    speaker = message[\"speaker\"]\n",
    "    content = message[\"content\"]\n",
    "    if speaker == 'seeker':\n",
    "        first_conv.append(content.split(' '))\n",
    "        first_conv_str += content + \" \"\n",
    "        \n",
    "#words = ''.join(first_conv)\n",
    "# Remove trailing whitespace\n",
    "first_conv_str = first_conv_str.strip()\n",
    "\n",
    "single_words_list = [item for sublist in first_conv for item in sublist]"
   ]
  },
  {
   "cell_type": "code",
   "execution_count": 19,
   "metadata": {
    "scrolled": true
   },
   "outputs": [
    {
     "data": {
      "text/plain": [
       "[['Hello\\n'],\n",
       " ['I',\n",
       "  'am',\n",
       "  'having',\n",
       "  'a',\n",
       "  'lot',\n",
       "  'of',\n",
       "  'anxiety',\n",
       "  'about',\n",
       "  'quitting',\n",
       "  'my',\n",
       "  'current',\n",
       "  'job.',\n",
       "  'It',\n",
       "  'is',\n",
       "  'too',\n",
       "  'stressful',\n",
       "  'but',\n",
       "  'pays',\n",
       "  'well\\n'],\n",
       " ['I',\n",
       "  'have',\n",
       "  'to',\n",
       "  'deal',\n",
       "  'with',\n",
       "  'many',\n",
       "  'people',\n",
       "  'in',\n",
       "  'hard',\n",
       "  'financial',\n",
       "  'situations',\n",
       "  'and',\n",
       "  'it',\n",
       "  'is',\n",
       "  'upsetting',\n",
       "  '\\n'],\n",
       " ['I',\n",
       "  'do,',\n",
       "  'but',\n",
       "  'often',\n",
       "  'they',\n",
       "  'are',\n",
       "  'not',\n",
       "  'going',\n",
       "  'to',\n",
       "  'get',\n",
       "  'back',\n",
       "  'to',\n",
       "  'what',\n",
       "  'they',\n",
       "  'want.',\n",
       "  'Many',\n",
       "  'people',\n",
       "  'are',\n",
       "  'going',\n",
       "  'to',\n",
       "  'lose',\n",
       "  'their',\n",
       "  'home',\n",
       "  'when',\n",
       "  'safeguards',\n",
       "  'are',\n",
       "  'lifted',\n",
       "  '\\n'],\n",
       " ['That',\n",
       "  'is',\n",
       "  'true',\n",
       "  'but',\n",
       "  'sometimes',\n",
       "  'I',\n",
       "  'feel',\n",
       "  'like',\n",
       "  'I',\n",
       "  'should',\n",
       "  'put',\n",
       "  'my',\n",
       "  'feelings',\n",
       "  'and',\n",
       "  'health',\n",
       "  'first',\n",
       "  '\\n'],\n",
       " ['Probably',\n",
       "  'not.',\n",
       "  'I',\n",
       "  'was',\n",
       "  'with',\n",
       "  'the',\n",
       "  'same',\n",
       "  'company',\n",
       "  'for',\n",
       "  'a',\n",
       "  'long',\n",
       "  'time',\n",
       "  'and',\n",
       "  'I',\n",
       "  'consistently',\n",
       "  'get',\n",
       "  'a',\n",
       "  'bonus',\n",
       "  'every',\n",
       "  'year',\n",
       "  ''],\n",
       " ['I',\n",
       "  'could',\n",
       "  'try.',\n",
       "  'It',\n",
       "  'mostly',\n",
       "  'gets',\n",
       "  'to',\n",
       "  'me',\n",
       "  'at',\n",
       "  'the',\n",
       "  'end',\n",
       "  'of',\n",
       "  'the',\n",
       "  'day',\n",
       "  '\\n'],\n",
       " ['That',\n",
       "  'is',\n",
       "  'also',\n",
       "  'true.',\n",
       "  'Sometimes',\n",
       "  'I',\n",
       "  'wonder',\n",
       "  'if',\n",
       "  'it',\n",
       "  'really',\n",
       "  'is',\n",
       "  'for',\n",
       "  'me',\n",
       "  'though',\n",
       "  '',\n",
       "  '\\n'],\n",
       " ['That',\n",
       "  'is',\n",
       "  'true.',\n",
       "  'Maybe',\n",
       "  'I',\n",
       "  'just',\n",
       "  'need',\n",
       "  'to',\n",
       "  'sit',\n",
       "  'down',\n",
       "  'and',\n",
       "  'really',\n",
       "  'think',\n",
       "  'about',\n",
       "  'it',\n",
       "  '\\n'],\n",
       " ['It', 'really', 'is', 'a', 'big', 'decision', '\\n'],\n",
       " ['Thank', 'you', 'for', 'the', 'different', 'perspective', '\\n'],\n",
       " ['That', 'is', 'true.', 'Thanks', 'again', '\\n'],\n",
       " ['Bye\\n']]"
      ]
     },
     "execution_count": 19,
     "metadata": {},
     "output_type": "execute_result"
    }
   ],
   "source": [
    "first_conv"
   ]
  },
  {
   "cell_type": "code",
   "execution_count": 20,
   "metadata": {},
   "outputs": [
    {
     "data": {
      "text/plain": [
       "['Hello\\n',\n",
       " 'I',\n",
       " 'am',\n",
       " 'having',\n",
       " 'a',\n",
       " 'lot',\n",
       " 'of',\n",
       " 'anxiety',\n",
       " 'about',\n",
       " 'quitting',\n",
       " 'my',\n",
       " 'current',\n",
       " 'job.',\n",
       " 'It',\n",
       " 'is',\n",
       " 'too',\n",
       " 'stressful',\n",
       " 'but',\n",
       " 'pays',\n",
       " 'well\\n',\n",
       " 'I',\n",
       " 'have',\n",
       " 'to',\n",
       " 'deal',\n",
       " 'with',\n",
       " 'many',\n",
       " 'people',\n",
       " 'in',\n",
       " 'hard',\n",
       " 'financial',\n",
       " 'situations',\n",
       " 'and',\n",
       " 'it',\n",
       " 'is',\n",
       " 'upsetting',\n",
       " '\\n',\n",
       " 'I',\n",
       " 'do,',\n",
       " 'but',\n",
       " 'often',\n",
       " 'they',\n",
       " 'are',\n",
       " 'not',\n",
       " 'going',\n",
       " 'to',\n",
       " 'get',\n",
       " 'back',\n",
       " 'to',\n",
       " 'what',\n",
       " 'they',\n",
       " 'want.',\n",
       " 'Many',\n",
       " 'people',\n",
       " 'are',\n",
       " 'going',\n",
       " 'to',\n",
       " 'lose',\n",
       " 'their',\n",
       " 'home',\n",
       " 'when',\n",
       " 'safeguards',\n",
       " 'are',\n",
       " 'lifted',\n",
       " '\\n',\n",
       " 'That',\n",
       " 'is',\n",
       " 'true',\n",
       " 'but',\n",
       " 'sometimes',\n",
       " 'I',\n",
       " 'feel',\n",
       " 'like',\n",
       " 'I',\n",
       " 'should',\n",
       " 'put',\n",
       " 'my',\n",
       " 'feelings',\n",
       " 'and',\n",
       " 'health',\n",
       " 'first',\n",
       " '\\n',\n",
       " 'Probably',\n",
       " 'not.',\n",
       " 'I',\n",
       " 'was',\n",
       " 'with',\n",
       " 'the',\n",
       " 'same',\n",
       " 'company',\n",
       " 'for',\n",
       " 'a',\n",
       " 'long',\n",
       " 'time',\n",
       " 'and',\n",
       " 'I',\n",
       " 'consistently',\n",
       " 'get',\n",
       " 'a',\n",
       " 'bonus',\n",
       " 'every',\n",
       " 'year',\n",
       " '',\n",
       " 'I',\n",
       " 'could',\n",
       " 'try.',\n",
       " 'It',\n",
       " 'mostly',\n",
       " 'gets',\n",
       " 'to',\n",
       " 'me',\n",
       " 'at',\n",
       " 'the',\n",
       " 'end',\n",
       " 'of',\n",
       " 'the',\n",
       " 'day',\n",
       " '\\n',\n",
       " 'That',\n",
       " 'is',\n",
       " 'also',\n",
       " 'true.',\n",
       " 'Sometimes',\n",
       " 'I',\n",
       " 'wonder',\n",
       " 'if',\n",
       " 'it',\n",
       " 'really',\n",
       " 'is',\n",
       " 'for',\n",
       " 'me',\n",
       " 'though',\n",
       " '',\n",
       " '\\n',\n",
       " 'That',\n",
       " 'is',\n",
       " 'true.',\n",
       " 'Maybe',\n",
       " 'I',\n",
       " 'just',\n",
       " 'need',\n",
       " 'to',\n",
       " 'sit',\n",
       " 'down',\n",
       " 'and',\n",
       " 'really',\n",
       " 'think',\n",
       " 'about',\n",
       " 'it',\n",
       " '\\n',\n",
       " 'It',\n",
       " 'really',\n",
       " 'is',\n",
       " 'a',\n",
       " 'big',\n",
       " 'decision',\n",
       " '\\n',\n",
       " 'Thank',\n",
       " 'you',\n",
       " 'for',\n",
       " 'the',\n",
       " 'different',\n",
       " 'perspective',\n",
       " '\\n',\n",
       " 'That',\n",
       " 'is',\n",
       " 'true.',\n",
       " 'Thanks',\n",
       " 'again',\n",
       " '\\n',\n",
       " 'Bye\\n']"
      ]
     },
     "execution_count": 20,
     "metadata": {},
     "output_type": "execute_result"
    }
   ],
   "source": [
    "single_words_list"
   ]
  },
  {
   "cell_type": "code",
   "execution_count": 21,
   "metadata": {},
   "outputs": [],
   "source": [
    "single_word_list = [word.replace('\\n', '').replace(',', '') for word in single_words_list]"
   ]
  },
  {
   "cell_type": "code",
   "execution_count": 22,
   "metadata": {
    "scrolled": true
   },
   "outputs": [
    {
     "data": {
      "text/plain": [
       "{'',\n",
       " '\\n',\n",
       " 'Bye\\n',\n",
       " 'Hello\\n',\n",
       " 'I',\n",
       " 'It',\n",
       " 'Many',\n",
       " 'Maybe',\n",
       " 'Probably',\n",
       " 'Sometimes',\n",
       " 'Thank',\n",
       " 'Thanks',\n",
       " 'That',\n",
       " 'a',\n",
       " 'about',\n",
       " 'again',\n",
       " 'also',\n",
       " 'am',\n",
       " 'and',\n",
       " 'anxiety',\n",
       " 'are',\n",
       " 'at',\n",
       " 'back',\n",
       " 'big',\n",
       " 'bonus',\n",
       " 'but',\n",
       " 'company',\n",
       " 'consistently',\n",
       " 'could',\n",
       " 'current',\n",
       " 'day',\n",
       " 'deal',\n",
       " 'decision',\n",
       " 'different',\n",
       " 'do,',\n",
       " 'down',\n",
       " 'end',\n",
       " 'every',\n",
       " 'feel',\n",
       " 'feelings',\n",
       " 'financial',\n",
       " 'first',\n",
       " 'for',\n",
       " 'get',\n",
       " 'gets',\n",
       " 'going',\n",
       " 'hard',\n",
       " 'have',\n",
       " 'having',\n",
       " 'health',\n",
       " 'home',\n",
       " 'if',\n",
       " 'in',\n",
       " 'is',\n",
       " 'it',\n",
       " 'job.',\n",
       " 'just',\n",
       " 'lifted',\n",
       " 'like',\n",
       " 'long',\n",
       " 'lose',\n",
       " 'lot',\n",
       " 'many',\n",
       " 'me',\n",
       " 'mostly',\n",
       " 'my',\n",
       " 'need',\n",
       " 'not',\n",
       " 'not.',\n",
       " 'of',\n",
       " 'often',\n",
       " 'pays',\n",
       " 'people',\n",
       " 'perspective',\n",
       " 'put',\n",
       " 'quitting',\n",
       " 'really',\n",
       " 'safeguards',\n",
       " 'same',\n",
       " 'should',\n",
       " 'sit',\n",
       " 'situations',\n",
       " 'sometimes',\n",
       " 'stressful',\n",
       " 'the',\n",
       " 'their',\n",
       " 'they',\n",
       " 'think',\n",
       " 'though',\n",
       " 'time',\n",
       " 'to',\n",
       " 'too',\n",
       " 'true',\n",
       " 'true.',\n",
       " 'try.',\n",
       " 'upsetting',\n",
       " 'want.',\n",
       " 'was',\n",
       " 'well\\n',\n",
       " 'what',\n",
       " 'when',\n",
       " 'with',\n",
       " 'wonder',\n",
       " 'year',\n",
       " 'you'}"
      ]
     },
     "execution_count": 22,
     "metadata": {},
     "output_type": "execute_result"
    }
   ],
   "source": [
    "set(single_words_list)"
   ]
  },
  {
   "cell_type": "code",
   "execution_count": 23,
   "metadata": {},
   "outputs": [
    {
     "data": {
      "text/plain": [
       "105"
      ]
     },
     "execution_count": 23,
     "metadata": {},
     "output_type": "execute_result"
    }
   ],
   "source": [
    "len(sorted(set(single_words_list)))"
   ]
  },
  {
   "cell_type": "code",
   "execution_count": 24,
   "metadata": {},
   "outputs": [
    {
     "data": {
      "text/plain": [
       "105"
      ]
     },
     "execution_count": 24,
     "metadata": {},
     "output_type": "execute_result"
    }
   ],
   "source": [
    "word_type(single_words_list)"
   ]
  },
  {
   "cell_type": "code",
   "execution_count": 25,
   "metadata": {},
   "outputs": [
    {
     "data": {
      "text/plain": [
       "1.619047619047619"
      ]
     },
     "execution_count": 25,
     "metadata": {},
     "output_type": "execute_result"
    }
   ],
   "source": [
    "lexical_diversity(single_words_list)"
   ]
  },
  {
   "cell_type": "code",
   "execution_count": 26,
   "metadata": {},
   "outputs": [
    {
     "data": {
      "text/plain": [
       "5.882352941176471"
      ]
     },
     "execution_count": 26,
     "metadata": {},
     "output_type": "execute_result"
    }
   ],
   "source": [
    "percentage('I', single_words_list)"
   ]
  },
  {
   "cell_type": "code",
   "execution_count": 27,
   "metadata": {},
   "outputs": [],
   "source": [
    "from nltk import FreqDist"
   ]
  },
  {
   "cell_type": "code",
   "execution_count": 28,
   "metadata": {},
   "outputs": [],
   "source": [
    "fdist = FreqDist(single_words_list)"
   ]
  },
  {
   "cell_type": "code",
   "execution_count": 29,
   "metadata": {},
   "outputs": [
    {
     "data": {
      "text/plain": [
       "dict_keys(['Hello\\n', 'I', 'am', 'having', 'a', 'lot', 'of', 'anxiety', 'about', 'quitting', 'my', 'current', 'job.', 'It', 'is', 'too', 'stressful', 'but', 'pays', 'well\\n', 'have', 'to', 'deal', 'with', 'many', 'people', 'in', 'hard', 'financial', 'situations', 'and', 'it', 'upsetting', '\\n', 'do,', 'often', 'they', 'are', 'not', 'going', 'get', 'back', 'what', 'want.', 'Many', 'lose', 'their', 'home', 'when', 'safeguards', 'lifted', 'That', 'true', 'sometimes', 'feel', 'like', 'should', 'put', 'feelings', 'health', 'first', 'Probably', 'not.', 'was', 'the', 'same', 'company', 'for', 'long', 'time', 'consistently', 'bonus', 'every', 'year', '', 'could', 'try.', 'mostly', 'gets', 'me', 'at', 'end', 'day', 'also', 'true.', 'Sometimes', 'wonder', 'if', 'really', 'though', 'Maybe', 'just', 'need', 'sit', 'down', 'think', 'big', 'decision', 'Thank', 'you', 'different', 'perspective', 'Thanks', 'again', 'Bye\\n'])"
      ]
     },
     "execution_count": 29,
     "metadata": {},
     "output_type": "execute_result"
    }
   ],
   "source": [
    "fdist.keys()"
   ]
  },
  {
   "cell_type": "code",
   "execution_count": 30,
   "metadata": {},
   "outputs": [
    {
     "data": {
      "text/plain": [
       "1"
      ]
     },
     "execution_count": 30,
     "metadata": {},
     "output_type": "execute_result"
    }
   ],
   "source": [
    "fdist['when']"
   ]
  },
  {
   "cell_type": "code",
   "execution_count": 31,
   "metadata": {},
   "outputs": [
    {
     "data": {
      "image/png": "[encoded data removed]",
      "text/plain": [
       "<Figure size 864x432 with 1 Axes>"
      ]
     },
     "metadata": {
      "needs_background": "light"
     },
     "output_type": "display_data"
    },
    {
     "data": {
      "text/plain": [
       "<AxesSubplot:title={'center':'Cumulative frequency plot for the 50 most frequently used words in first conversation'}, xlabel='Samples', ylabel='Cumulative Counts'>"
      ]
     },
     "execution_count": 31,
     "metadata": {},
     "output_type": "execute_result"
    }
   ],
   "source": [
    "plt.figure(figsize=(12, 6))\n",
    "plt.title('Cumulative frequency plot for the 50 most frequently used words in first conversation')\n",
    "fdist.plot(50, cumulative=True)\n",
    "# Cumulative"
   ]
  },
  {
   "cell_type": "code",
   "execution_count": 32,
   "metadata": {},
   "outputs": [
    {
     "name": "stderr",
     "output_type": "stream",
     "text": [
      "[nltk_data] Downloading package punkt to\n",
      "[nltk_data]     C:\\Users\\Admin\\AppData\\Roaming\\nltk_data...\n",
      "[nltk_data]   Package punkt is already up-to-date!\n"
     ]
    },
    {
     "data": {
      "text/plain": [
       "True"
      ]
     },
     "execution_count": 32,
     "metadata": {},
     "output_type": "execute_result"
    }
   ],
   "source": [
    "import nltk\n",
    "nltk.download('punkt')"
   ]
  },
  {
   "cell_type": "code",
   "execution_count": 33,
   "metadata": {
    "scrolled": true
   },
   "outputs": [],
   "source": [
    "# Tokenize the string\n",
    "first_conv_tokens = nltk.word_tokenize(first_conv_str)\n",
    "\n",
    "# Create a Text object from the tokens\n",
    "text = Text(first_conv_tokens)"
   ]
  },
  {
   "cell_type": "code",
   "execution_count": 34,
   "metadata": {},
   "outputs": [
    {
     "name": "stdout",
     "output_type": "stream",
     "text": [
      "Displaying 1 of 1 matches:\n",
      "en they are not going to get back to what they want . Many people are going to\n"
     ]
    }
   ],
   "source": [
    "text.concordance('what')"
   ]
  },
  {
   "cell_type": "code",
   "execution_count": 35,
   "metadata": {},
   "outputs": [
    {
     "name": "stdout",
     "output_type": "stream",
     "text": [
      "No matches\n"
     ]
    }
   ],
   "source": [
    "text.similar('axiety')"
   ]
  },
  {
   "cell_type": "code",
   "execution_count": 36,
   "metadata": {},
   "outputs": [],
   "source": [
    "#text.common_contexts(['',''])"
   ]
  },
  {
   "cell_type": "code",
   "execution_count": 37,
   "metadata": {},
   "outputs": [
    {
     "data": {
      "image/png": "[encoded data removed]",
      "text/plain": [
       "<Figure size 432x288 with 1 Axes>"
      ]
     },
     "metadata": {
      "needs_background": "light"
     },
     "output_type": "display_data"
    }
   ],
   "source": [
    "text.dispersion_plot(['I', 'what', 'job', 'Hello']) #za krotka konwersacja?"
   ]
  },
  {
   "cell_type": "code",
   "execution_count": 38,
   "metadata": {},
   "outputs": [
    {
     "ename": "TypeError",
     "evalue": "list indices must be integers or slices, not dict",
     "output_type": "error",
     "traceback": [
      "\u001b[1;31m---------------------------------------------------------------------------\u001b[0m",
      "\u001b[1;31mTypeError\u001b[0m                                 Traceback (most recent call last)",
      "\u001b[1;32m<ipython-input-38-8c2d02ae704e>\u001b[0m in \u001b[0;36m<module>\u001b[1;34m\u001b[0m\n\u001b[0;32m      1\u001b[0m \u001b[1;32mfor\u001b[0m \u001b[0mdialog\u001b[0m \u001b[1;32min\u001b[0m \u001b[0mdataset\u001b[0m\u001b[1;33m:\u001b[0m\u001b[1;33m\u001b[0m\u001b[1;33m\u001b[0m\u001b[0m\n\u001b[1;32m----> 2\u001b[1;33m     \u001b[1;32mif\u001b[0m \u001b[0mdataset\u001b[0m\u001b[1;33m[\u001b[0m\u001b[0mdialog\u001b[0m\u001b[1;33m]\u001b[0m\u001b[1;33m[\u001b[0m\u001b[1;34m'experience_type'\u001b[0m\u001b[1;33m]\u001b[0m\u001b[1;33m:\u001b[0m\u001b[1;33m\u001b[0m\u001b[1;33m\u001b[0m\u001b[0m\n\u001b[0m\u001b[0;32m      3\u001b[0m         \u001b[1;32mfor\u001b[0m \u001b[0mmessage\u001b[0m \u001b[1;32min\u001b[0m \u001b[0mdataset\u001b[0m\u001b[1;33m[\u001b[0m\u001b[0mdialog\u001b[0m\u001b[1;33m]\u001b[0m\u001b[1;33m:\u001b[0m\u001b[1;33m\u001b[0m\u001b[1;33m\u001b[0m\u001b[0m\n\u001b[0;32m      4\u001b[0m             \u001b[0mspeaker\u001b[0m \u001b[1;33m=\u001b[0m \u001b[0mmessage\u001b[0m\u001b[1;33m[\u001b[0m\u001b[1;34m\"speaker\"\u001b[0m\u001b[1;33m]\u001b[0m\u001b[1;33m\u001b[0m\u001b[1;33m\u001b[0m\u001b[0m\n\u001b[0;32m      5\u001b[0m             \u001b[0mcontent\u001b[0m \u001b[1;33m=\u001b[0m \u001b[0mmessage\u001b[0m\u001b[1;33m[\u001b[0m\u001b[1;34m\"content\"\u001b[0m\u001b[1;33m]\u001b[0m\u001b[1;33m\u001b[0m\u001b[1;33m\u001b[0m\u001b[0m\n",
      "\u001b[1;31mTypeError\u001b[0m: list indices must be integers or slices, not dict"
     ]
    }
   ],
   "source": [
    "#for dialog in dataset:\n",
    "#    if dataset[dialog]['experience_type']:\n",
    "#        for message in dataset[dialog]:\n",
    "#            speaker = message[\"speaker\"]\n",
    "#            content = message[\"content\"]\n",
    "#            if speaker == 'seeker':\n",
    "#                first_conv.append(content.split(' '))\n",
    "#                first_conv_str += content + \" \"\n",
    "#                \n",
    "#first_conv_str = first_conv_str.strip()\n",
    "#\n",
    "#single_words_list = [item for sublist in first_conv for item in sublist]"
   ]
  },
  {
   "cell_type": "markdown",
   "metadata": {},
   "source": [
    "### Fine-Grained Selection of Words"
   ]
  },
  {
   "cell_type": "code",
   "execution_count": 39,
   "metadata": {},
   "outputs": [
    {
     "data": {
      "text/plain": [
       "['Probably',\n",
       " 'Sometimes',\n",
       " 'consistently',\n",
       " 'decision',\n",
       " 'different',\n",
       " 'feelings',\n",
       " 'financial',\n",
       " 'perspective',\n",
       " 'quitting',\n",
       " 'safeguards',\n",
       " 'situations',\n",
       " 'sometimes',\n",
       " 'stressful',\n",
       " 'upsetting']"
      ]
     },
     "execution_count": 39,
     "metadata": {},
     "output_type": "execute_result"
    }
   ],
   "source": [
    "fdist = FreqDist(single_words_list)\n",
    "sorted([w for w in set(fdist) if len(w)>7])\n",
    "\n",
    "#len(w)>7 -> tylko wyrazy dluzsze od 7\n",
    "#fdist[w]>7 -> czy pojawia się wiecej niz 7 razy"
   ]
  },
  {
   "cell_type": "markdown",
   "metadata": {},
   "source": [
    "### Collocation is a seq of words that occur together unusually often"
   ]
  },
  {
   "cell_type": "code",
   "execution_count": 40,
   "metadata": {},
   "outputs": [
    {
     "name": "stderr",
     "output_type": "stream",
     "text": [
      "[nltk_data] Downloading package stopwords to\n",
      "[nltk_data]     C:\\Users\\Admin\\AppData\\Roaming\\nltk_data...\n",
      "[nltk_data]   Package stopwords is already up-to-date!\n"
     ]
    },
    {
     "data": {
      "text/plain": [
       "True"
      ]
     },
     "execution_count": 40,
     "metadata": {},
     "output_type": "execute_result"
    }
   ],
   "source": [
    "nltk.download('stopwords')"
   ]
  },
  {
   "cell_type": "code",
   "execution_count": 41,
   "metadata": {},
   "outputs": [],
   "source": [
    "bigrams = bigrams(['more', 'is', 'said', 'than', 'done'])"
   ]
  },
  {
   "cell_type": "code",
   "execution_count": 42,
   "metadata": {},
   "outputs": [
    {
     "name": "stdout",
     "output_type": "stream",
     "text": [
      "[('more', 'is'), ('is', 'said'), ('said', 'than'), ('than', 'done')]\n"
     ]
    }
   ],
   "source": [
    "print(list(bigrams))"
   ]
  },
  {
   "cell_type": "code",
   "execution_count": 43,
   "metadata": {},
   "outputs": [
    {
     "name": "stdout",
     "output_type": "stream",
     "text": [
      "\n"
     ]
    }
   ],
   "source": [
    "text.collocations() # no results, too short?"
   ]
  },
  {
   "cell_type": "code",
   "execution_count": 44,
   "metadata": {},
   "outputs": [
    {
     "data": {
      "text/plain": [
       "FreqDist({4: 36, 3: 33, 2: 31, 1: 22, 5: 15, 6: 13, 9: 6, 8: 4, 7: 3, 10: 2, ...})"
      ]
     },
     "execution_count": 44,
     "metadata": {},
     "output_type": "execute_result"
    }
   ],
   "source": [
    "# distribution of word lengths\n",
    "\n",
    "[len(w) for w in text]\n",
    "fdist = FreqDist([len(w) for w in text])\n",
    "fdist\n",
    "\n",
    "# 36 słów na 4 litery, 33 słowa mają 3 litery itd."
   ]
  },
  {
   "cell_type": "code",
   "execution_count": 45,
   "metadata": {},
   "outputs": [
    {
     "data": {
      "text/plain": [
       "dict_keys([5, 1, 2, 6, 3, 7, 8, 9, 4, 10, 12, 11])"
      ]
     },
     "execution_count": 45,
     "metadata": {},
     "output_type": "execute_result"
    }
   ],
   "source": [
    "fdist.keys() # ilo-literowe są słowa"
   ]
  },
  {
   "cell_type": "code",
   "execution_count": 46,
   "metadata": {},
   "outputs": [
    {
     "data": {
      "text/plain": [
       "dict_items([(5, 15), (1, 22), (2, 31), (6, 13), (3, 33), (7, 3), (8, 4), (9, 6), (4, 36), (10, 2), (12, 1), (11, 1)])"
      ]
     },
     "execution_count": 46,
     "metadata": {},
     "output_type": "execute_result"
    }
   ],
   "source": [
    "fdist.items() # to samo tylko w liście"
   ]
  },
  {
   "cell_type": "code",
   "execution_count": 47,
   "metadata": {},
   "outputs": [
    {
     "data": {
      "text/plain": [
       "4"
      ]
     },
     "execution_count": 47,
     "metadata": {},
     "output_type": "execute_result"
    }
   ],
   "source": [
    "fdist.max() # których słów było najwięcej? 4-literowych"
   ]
  },
  {
   "cell_type": "code",
   "execution_count": 48,
   "metadata": {},
   "outputs": [
    {
     "data": {
      "text/plain": [
       "33"
      ]
     },
     "execution_count": 48,
     "metadata": {},
     "output_type": "execute_result"
    }
   ],
   "source": [
    "fdist[3] # 3-literowych było 33"
   ]
  },
  {
   "cell_type": "code",
   "execution_count": 49,
   "metadata": {},
   "outputs": [
    {
     "data": {
      "text/plain": [
       "36"
      ]
     },
     "execution_count": 49,
     "metadata": {},
     "output_type": "execute_result"
    }
   ],
   "source": [
    "fdist[4] # 3-literowych było 33"
   ]
  },
  {
   "cell_type": "code",
   "execution_count": 50,
   "metadata": {},
   "outputs": [
    {
     "data": {
      "text/plain": [
       "0.2155688622754491"
      ]
     },
     "execution_count": 50,
     "metadata": {},
     "output_type": "execute_result"
    }
   ],
   "source": [
    "fdist.freq(4) # najwięcej było 4-literowych słów, prawie 22% wszystkich"
   ]
  },
  {
   "cell_type": "markdown",
   "metadata": {},
   "source": [
    "Can help us understand differences between authors, genres, languages"
   ]
  },
  {
   "cell_type": "code",
   "execution_count": 51,
   "metadata": {},
   "outputs": [
    {
     "data": {
      "image/png": "[encoded data removed]",
      "text/plain": [
       "<Figure size 864x432 with 1 Axes>"
      ]
     },
     "metadata": {
      "needs_background": "light"
     },
     "output_type": "display_data"
    },
    {
     "data": {
      "text/plain": [
       "<AxesSubplot:title={'center':'Graphical plot for the frequency distribution'}, xlabel='Samples', ylabel='Counts'>"
      ]
     },
     "execution_count": 51,
     "metadata": {},
     "output_type": "execute_result"
    }
   ],
   "source": [
    "plt.figure(figsize=(12, 6))\n",
    "plt.title('Graphical plot for the frequency distribution')\n",
    "fdist.plot(50)\n",
    "# Cumulative"
   ]
  },
  {
   "cell_type": "markdown",
   "metadata": {},
   "source": [
    "### Conditional Frequency Distribution"
   ]
  },
  {
   "cell_type": "markdown",
   "metadata": {},
   "source": [
    "ConditionalFreqDist() powinien zrobić to samo, co FreqDist() tylko, że dla par wyrazów"
   ]
  },
  {
   "cell_type": "code",
   "execution_count": 64,
   "metadata": {},
   "outputs": [],
   "source": [
    "corpus = dataset[0]\n",
    "\n",
    "# Extract the dialog content\n",
    "dialog_content = [dialog['content'] for dialog in corpus['dialog']]\n",
    "\n",
    "# Tokenize the dialog content\n",
    "tokenized_dialog = [nltk.word_tokenize(dialog) for dialog in dialog_content]\n",
    "\n",
    "# Create ConditionalFreqDist\n",
    "cfdist = nltk.ConditionalFreqDist(\n",
    "    (len(word), word.lower()) for dialog in tokenized_dialog for word in dialog\n",
    ") # capture the word frequency distribution conditioned on word length"
   ]
  },
  {
   "cell_type": "code",
   "execution_count": 65,
   "metadata": {},
   "outputs": [
    {
     "data": {
      "text/plain": [
       "[5, 1, 4, 3, 2, 6, 7, 8, 9, 10, 12, 11, 13, 15]"
      ]
     },
     "execution_count": 65,
     "metadata": {},
     "output_type": "execute_result"
    }
   ],
   "source": [
    "cfdist.conditions()"
   ]
  },
  {
   "cell_type": "code",
   "execution_count": 66,
   "metadata": {},
   "outputs": [
    {
     "data": {
      "text/plain": [
       "FreqDist({'compassionately': 1})"
      ]
     },
     "execution_count": 66,
     "metadata": {},
     "output_type": "execute_result"
    }
   ],
   "source": [
    "cfdist[15]"
   ]
  },
  {
   "cell_type": "code",
   "execution_count": 71,
   "metadata": {},
   "outputs": [
    {
     "data": {
      "text/plain": [
       "[('compassionately', 1)]"
      ]
     },
     "execution_count": 71,
     "metadata": {},
     "output_type": "execute_result"
    }
   ],
   "source": [
    "cfdist[15].most_common()"
   ]
  },
  {
   "cell_type": "code",
   "execution_count": 68,
   "metadata": {},
   "outputs": [
    {
     "data": {
      "image/png": "[encoded data removed]",
      "text/plain": [
       "<Figure size 864x432 with 1 Axes>"
      ]
     },
     "metadata": {
      "needs_background": "light"
     },
     "output_type": "display_data"
    },
    {
     "data": {
      "text/plain": [
       "<AxesSubplot:xlabel='Samples', ylabel='Counts'>"
      ]
     },
     "execution_count": 68,
     "metadata": {},
     "output_type": "execute_result"
    }
   ],
   "source": [
    "# Plotting the distribution\n",
    "plt.figure(figsize=(12, 6))\n",
    "cfdist.plot()"
   ]
  },
  {
   "cell_type": "code",
   "execution_count": 73,
   "metadata": {},
   "outputs": [
    {
     "data": {
      "text/plain": [
       "Text(0.5, 1.0, 'Frequency Distribution of Word Length')"
      ]
     },
     "execution_count": 73,
     "metadata": {},
     "output_type": "execute_result"
    },
    {
     "data": {
      "image/png": "[encoded data removed]",
      "text/plain": [
       "<Figure size 720x432 with 1 Axes>"
      ]
     },
     "metadata": {
      "needs_background": "light"
     },
     "output_type": "display_data"
    }
   ],
   "source": [
    "# Get the conditions and their respective frequencies\n",
    "conditions = sorted(cfdist.conditions())\n",
    "freq_counts = [cfdist[condition].N() for condition in conditions]\n",
    "\n",
    "# Plotting the distribution\n",
    "plt.figure(figsize=(10, 6))\n",
    "plt.bar(range(len(conditions)), freq_counts)\n",
    "plt.xticks(range(len(conditions)), conditions)\n",
    "plt.xlabel('Word Length')\n",
    "plt.ylabel('Frequency')\n",
    "plt.title('Frequency Distribution of Word Length')"
   ]
  },
  {
   "cell_type": "code",
   "execution_count": 81,
   "metadata": {},
   "outputs": [],
   "source": [
    "import sys\n",
    "\n",
    "# Define the output file path\n",
    "output_file = 'frequency_distribution.csv'\n",
    "\n",
    "# Redirect the standard output to a file\n",
    "with open(output_file, 'w') as f:\n",
    "    sys.stdout = f\n",
    "    cfdist.tabulate()\n",
    "    sys.stdout = sys.__stdout__\n",
    "\n",
    "print(\"Frequency distribution saved to\", output_file)\n"
   ]
  },
  {
   "cell_type": "code",
   "execution_count": 75,
   "metadata": {},
   "outputs": [
    {
     "name": "stdout",
     "output_type": "stream",
     "text": [
      "Frequency Distribution of Word Length:\n",
      "------------------------\n",
      "                 '              's             've               ,               .               :               ?               a           about           again            also              am             and         another         anxiety             are              at            back             bad              be         because          before          better             big          bigger           bonus             but             bye              ca             can            care         clearer         clients           close     collections         company compassionately       condition            cons    consistently           could         current       currently             day            deal        decision       different            dire              do           doubt            down            else             end           every            feel        feelings            fill       financial           first             for          future             get            gets            give           going             had            hard            have          having          health           heart           hello            help         helpful           helps            home            hope             how               i              if         impacts              in              is              it             job            just         keeping            know          lifted            like            line            long            look            lose             lot            make           makes            many             may           maybe              me          mental           might          mostly              my             n't            need          needed           needs        negative            news              no             not              of           offer           often              ok              on           other             out             pay            pays           peace          people          person     perspective         picture        position        possible        probably         problem            pros         provide             put        quitting         reality          really         reframe           right            role             run      safeguards            same             see         service             she          should             sit       situation      situations            some         someone       sometimes            stay           still       stressful            take            talk            than           thank          thanks            that             the           their            them            then           there            they          things           think            this          though            time              to             too            true             try      understand   understanding       upsetting            want          wanted             was             way            well            what            when            with          wonder           would            year             you            your            zoom \n",
      " 1               1               1               1               9              28              29              34              43              43              43              43              43              43              43              43              43              43              43              43              43              43              43              43              43              43              43              43              43              43              43              43              43              43              43              43              43              43              43              43              43              43              43              43              43              43              43              43              43              43              43              43              43              43              43              43              43              43              43              43              43              43              43              43              43              43              43              43              43              43              43              43              43              43              43              43              43              43              43              59              59              59              59              59              59              59              59              59              59              59              59              59              59              59              59              59              59              59              59              59              59              59              59              59              59              59              59              59              59              59              59              59              59              59              59              59              59              59              59              59              59              59              59              59              59              59              59              59              59              59              59              59              59              59              59              59              59              59              59              59              59              59              59              59              59              59              59              59              59              59              59              59              59              59              59              59              59              59              59              59              59              59              59              59              59              59              59              59              59              59              59              59              59              59              59              59              59              59              59              59              59              59              59              59              59              59              59              59              59              59              59              59              59              59              59 \n",
      " 2               0               1               1               1               1               1               1               1               1               1               1               2               2               2               2               2               5               5               5               8               8               8               8               8               8               8               8               8               9               9               9               9               9               9               9               9               9               9               9               9               9               9               9               9               9               9               9               9              16              16              16              16              16              16              16              16              16              16              16              16              16              16              16              16              16              16              16              16              16              16              16              16              16              16              16              16              16              16              16              18              18              23              35              51              51              51              51              51              51              51              51              51              51              51              51              51              51              51              51              51              53              53              53              53              55              55              55              55              55              55              55              57              57              60              60              60              61              62              62              62              62              62              62              62              62              62              62              62              62              62              62              62              62              62              62              62              62              62              62              62              62              62              62              62              62              62              62              62              62              62              62              62              62              62              62              62              62              62              62              62              62              62              62              62              62              62              62              62              62              62              62              62              62              77              77              77              77              77              77              77              77              77              77              77              77              77              77              77              77              77              77              77              77              77 \n",
      " 3               0               0               1               1               1               1               1               1               1               1               1               1              10              10              10              13              13              13              15              15              15              15              15              16              16              16              22              23              23              25              25              25              25              25              25              25              25              25              25              25              25              25              25              26              26              26              26              26              26              26              26              26              27              27              27              27              27              27              27              34              34              36              36              36              36              37              37              37              37              37              37              37              37              37              37              37              37              38              38              38              38              38              38              38              41              41              41              41              41              41              41              41              41              41              42              42              42              42              45              45              45              45              45              45              45              48              48              48              48              48              48              48              52              52              52              52              52              52              52              53              54              54              54              54              54              54              54              54              54              54              54              54              54              55              55              55              55              55              55              55              56              56              56              57              57              58              58              59              59              59              59              59              59              59              59              59              59              59              59              59              59              59              70              70              70              70              70              70              70              70              70              70              70              70              71              71              72              72              72              72              72              72              76              77              77              77              77              77              77              77              77              96              96              96 \n",
      " 4               0               0               0               0               0               0               0               0               0               0               1               1               1               1               1               1               1               2               2               2               2               2               2               2               2               2               2               2               2               2               3               3               3               3               3               3               3               3               4               4               4               4               4               4               6               6               6               7               7               7               8               9               9               9              10              10              11              11              11              11              11              11              12              13              13              13              14              17              17              17              17              17              19              19              19              20              21              21              21              21              21              21              21              21              21              22              22              23              23              25              26              28              29              30              30              34              34              36              36              36              36              36              36              36              36              36              38              38              38              38              39              39              39              39              39              39              39              39              39              39              39              40              40              40              40              40              40              40              40              40              40              41              41              41              41              41              41              41              41              42              42              42              43              43              43              43              43              43              43              43              44              44              44              45              45              45              46              47              48              48              48              56              56              56              58              59              59              64              64              64              65              65              66              66              66              70              70              70              70              70              71              71              71              71              72              80              82              86              86              86              87              87              93              94 \n",
      " 5               0               0               0               0               0               0               0               0               5               6               6               6               6               6               6               6               6               6               6               6               6               6               6               6               6               7               7               7               7               7               7               7               7               8               8               8               8               8               8               8               9               9               9               9               9               9               9               9               9              10              10              10              10              11              11              11              11              11              12              12              12              12              12              12              14              14              14              14              14              14              16              18              18              18              19              19              19              19              19              19              19              19              19              19              19              19              19              19              19              19              19              19              19              19              19              19              20              20              20              21              21              21              22              22              22              22              22              22              23              23              23              23              23              23              24              25              25              25              26              26              26              26              27              27              27              27              27              27              27              27              27              27              27              27              27              27              27              27              28              28              28              28              28              28              28              28              28              28              28              28              28              28              28              28              29              29              29              29              29              30              30              30              30              31              31              31              32              32              32              35              35              35              35              35              35              35              35              35              35              35              35              35              35              35              35              35              35              35              35              38              38              38              38              38 \n",
      " 6               0               0               0               0               0               0               0               0               0               0               0               0               0               0               0               0               0               0               0               0               0               1               3               3               4               4               4               4               4               4               4               4               4               4               4               4               4               4               4               4               4               4               4               4               4               4               4               4               4               4               4               4               4               4               4               4               4               4               4               4               5               5               5               5               5               5               5               5               6               8               8               8               8               8               8               8               8               8               8               8               8               8               8               8               8               8               8               8               9               9               9               9               9               9               9               9               9               9               9               9               9              10              10              11              11              11              11              12              12              12              12              12              12              12              12              12              12              12              12              12              12              12              12              16              17              17              17              17              17              17              17              17              17              17              17              17              22              22              22              22              22              22              22              22              22              22              24              24              24              24              24              24              24              24              24              24              24              24              24              24              25              25              25              25              25              25              25              25              26              26              26              29              29              29              29              29              29              29              29              29              29              30              30              30              30              30              30              30              31              31              31              31              31              31 \n"
     ]
    },
    {
     "name": "stdout",
     "output_type": "stream",
     "text": [
      " 7               0               0               0               0               0               0               0               0               0               0               0               0               0               1               2               2               2               2               2               2               3               3               3               3               3               3               3               3               3               3               3               4               6               6               6               7               7               7               7               7               7               8               8               8               8               8               8               8               8               8               8               8               8               8               8               8               8               8               8               8               8               8               8               8               8               8               8               8               8               8               8               8               8               9               9               9               9               9               9               9              10              10              10              10              10              10              11              11              11              11              11              11              11              11              11              11              11              11              11              11              11              11              11              11              11              11              11              11              11              11              11              11              11              11              11              11              11              11              11              11              11              11              11              11              11              11              12              12              12              12              13              13              14              14              14              15              15              16              16              16              16              16              16              16              17              17              17              17              17              17              17              19              19              19              19              19              19              19              19              19              19              19              19              19              19              19              19              19              19              19              19              19              19              19              19              19              19              19              19              19              19              19              19              19              19              19              19              19              19              19              19              19              19              19 \n",
      " 8               0               0               0               0               0               0               0               0               0               0               0               0               0               0               0               0               0               0               0               0               0               0               0               0               0               0               0               0               0               0               0               0               0               0               0               0               0               0               0               0               0               0               0               0               0               2               2               2               2               2               2               2               2               2               2               3               3               3               3               3               3               3               3               3               3               3               3               3               3               3               3               3               3               3               3               3               3               3               3               3               3               3               3               3               3               3               3               3               3               3               3               3               3               3               3               3               3               3               3               3               3               3               3               3               3               3               3               3               3               4               4               4               4               4               4               4               4               4               4               4               4               4               4               4               4               4               4               5               6               7               7               7               7               7               8               8               8               8               8               8               8               8               8               8               8               8               8               8               8               8               8               8               8               8               8               8               8               8               8               8               8               8               8               8               8               8               8               8               8               8               8               8               8               8               8               8               8               8               8               8               8               8               8               8               8               8               8               8               8               8               8               8               8               8 \n",
      " 9               0               0               0               0               0               0               0               0               0               0               0               0               0               0               0               0               0               0               0               0               0               0               0               0               0               0               0               0               0               0               0               0               0               0               0               0               0               1               1               1               1               1               3               3               3               3               4               4               4               4               4               4               4               4               4               4               4               8               8               8               8               8               8               8               8               8               8               8               8               8               8               8               8               8               8               8               8               8               8               8               8               8               8               8               8               8               8               8               8               8               8               8               8               8               8               8               8               8               8               8               8               8               8               8               8               8               8               8               8               8               8               8               8               8               8               8               8               8               8               8               8               8               8               8               8               8               8               8               8               8               8               8               8               8               8               8               8               8               8               8               8               8               8               8               8               8               8               8              10              10              10              10              12              12              12              14              14              14              14              14              14              14              14              14              14              14              14              14              14              14              14              14              14              14              14              14              14              14              14              15              15              15              15              15              15              15              15              15              15              15              15              15              15              15 \n",
      "10               0               0               0               0               0               0               0               0               0               0               0               0               0               0               0               0               0               0               0               0               0               0               0               0               0               0               0               0               0               0               0               0               0               0               0               0               0               0               0               0               0               0               0               0               0               0               0               0               0               0               0               0               0               0               0               0               0               0               0               0               0               0               0               0               0               0               0               0               0               0               0               0               0               0               0               0               0               0               0               0               0               0               0               0               0               0               0               0               0               0               0               0               0               0               0               0               0               0               0               0               0               0               0               0               0               0               0               0               0               0               0               0               0               0               0               0               0               0               0               0               0               0               0               0               0               0               0               0               0               0               0               0               0               0               0               0               0               0               0               0               0               1               1               1               1               1               1               1               1               3               3               3               3               3               3               3               3               3               3               3               3               3               3               3               3               3               3               3               3               3               3               3               3               3               3               3               3               4               4               4               4               4               4               4               4               4               4               4               4               4               4               4               4               4 \n",
      "11               0               0               0               0               0               0               0               0               0               0               0               0               0               0               0               0               0               0               0               0               0               0               0               0               0               0               0               0               0               0               0               0               0               0               1               1               1               1               1               1               1               1               1               1               1               1               1               1               1               1               1               1               1               1               1               1               1               1               1               1               1               1               1               1               1               1               1               1               1               1               1               1               1               1               1               1               1               1               1               1               1               1               1               1               1               1               1               1               1               1               1               1               1               1               1               1               1               1               1               1               1               1               1               1               1               1               1               1               1               1               1               1               1               1               1               1               1               1               1               1               1               1               1               1               1               2               2               2               2               2               2               2               2               2               2               2               2               2               2               2               2               2               2               2               2               2               2               2               2               2               2               2               2               2               2               2               2               2               2               2               2               2               2               2               2               2               2               2               2               2               2               2               2               2               2               2               2               2               2               2               2               2               2               2               2               2               2               2               2               2               2               2               2               2 \n",
      "12               0               0               0               0               0               0               0               0               0               0               0               0               0               0               0               0               0               0               0               0               0               0               0               0               0               0               0               0               0               0               0               0               0               0               0               0               0               0               0               1               1               1               1               1               1               1               1               1               1               1               1               1               1               1               1               1               1               1               1               1               1               1               1               1               1               1               1               1               1               1               1               1               1               1               1               1               1               1               1               1               1               1               1               1               1               1               1               1               1               1               1               1               1               1               1               1               1               1               1               1               1               1               1               1               1               1               1               1               1               1               1               1               1               1               1               1               1               1               1               1               1               1               1               1               1               1               1               1               1               1               1               1               1               1               1               1               1               1               1               1               1               1               1               1               1               1               1               1               1               1               1               1               1               1               1               1               1               1               1               1               1               1               1               1               1               1               1               1               1               1               1               1               1               1               1               1               1               1               1               1               1               1               1               1               1               1               1               1               1               1               1               1               1               1 \n",
      "13               0               0               0               0               0               0               0               0               0               0               0               0               0               0               0               0               0               0               0               0               0               0               0               0               0               0               0               0               0               0               0               0               0               0               0               0               0               0               0               0               0               0               0               0               0               0               0               0               0               0               0               0               0               0               0               0               0               0               0               0               0               0               0               0               0               0               0               0               0               0               0               0               0               0               0               0               0               0               0               0               0               0               0               0               0               0               0               0               0               0               0               0               0               0               0               0               0               0               0               0               0               0               0               0               0               0               0               0               0               0               0               0               0               0               0               0               0               0               0               0               0               0               0               0               0               0               0               0               0               0               0               0               0               0               0               0               0               0               0               0               0               0               0               0               0               0               0               0               0               0               0               0               0               0               0               0               0               0               0               0               0               0               0               0               0               0               0               0               0               0               0               0               0               0               0               0               0               0               1               1               1               1               1               1               1               1               1               1               1               1               1               1               1               1 \n"
     ]
    },
    {
     "name": "stdout",
     "output_type": "stream",
     "text": [
      "15               0               0               0               0               0               0               0               0               0               0               0               0               0               0               0               0               0               0               0               0               0               0               0               0               0               0               0               0               0               0               0               0               0               0               0               0               1               1               1               1               1               1               1               1               1               1               1               1               1               1               1               1               1               1               1               1               1               1               1               1               1               1               1               1               1               1               1               1               1               1               1               1               1               1               1               1               1               1               1               1               1               1               1               1               1               1               1               1               1               1               1               1               1               1               1               1               1               1               1               1               1               1               1               1               1               1               1               1               1               1               1               1               1               1               1               1               1               1               1               1               1               1               1               1               1               1               1               1               1               1               1               1               1               1               1               1               1               1               1               1               1               1               1               1               1               1               1               1               1               1               1               1               1               1               1               1               1               1               1               1               1               1               1               1               1               1               1               1               1               1               1               1               1               1               1               1               1               1               1               1               1               1               1               1               1               1               1               1               1               1               1               1               1               1 \n"
     ]
    }
   ],
   "source": [
    "cfdist.tabulate(conditions=sorted(cfdist.conditions()), cumulative=True, width=80)\n"
   ]
  },
  {
   "cell_type": "code",
   "execution_count": 77,
   "metadata": {},
   "outputs": [
    {
     "name": "stdout",
     "output_type": "stream",
     "text": [
      "[[1, 59], [2, 77], [3, 96], [4, 94], [5, 38], [6, 31], [7, 19], [8, 8], [9, 15], [10, 4], [11, 2], [12, 1], [13, 1], [15, 1]]\n"
     ]
    }
   ],
   "source": [
    "data = []\n",
    "for condition in sorted(cfdist.conditions()):\n",
    "    freq_count = cfdist[condition].N()\n",
    "    data.append([condition, freq_count])\n",
    "print(data)"
   ]
  },
  {
   "cell_type": "markdown",
   "metadata": {},
   "source": [
    "## Data Preprocessing"
   ]
  },
  {
   "cell_type": "code",
   "execution_count": null,
   "metadata": {},
   "outputs": [],
   "source": []
  },
  {
   "cell_type": "code",
   "execution_count": null,
   "metadata": {},
   "outputs": [],
   "source": [
    "# Convert JSON data to a DataFrame\n",
    "import pandas as pd\n",
    "\n",
    "df = pd.io.json.json_normalize(dataset)\n",
    "print(df.head(5))"
   ]
  },
  {
   "cell_type": "code",
   "execution_count": null,
   "metadata": {},
   "outputs": [],
   "source": [
    "df.info() # different sizes"
   ]
  },
  {
   "cell_type": "code",
   "execution_count": null,
   "metadata": {},
   "outputs": [],
   "source": [
    "df.isnull().sum().sort_values(ascending=False)"
   ]
  },
  {
   "cell_type": "code",
   "execution_count": null,
   "metadata": {},
   "outputs": [],
   "source": [
    "df.fillna(method=\"ffill\")"
   ]
  },
  {
   "cell_type": "code",
   "execution_count": null,
   "metadata": {},
   "outputs": [],
   "source": [
    "for col in df:\n",
    "    if type(df[col]) == 'object':\n",
    "        df[col] = df[col].fillna(value='unknown')\n",
    "    else:\n",
    "        df[col] =df[col].fillna(value=0)"
   ]
  },
  {
   "cell_type": "code",
   "execution_count": null,
   "metadata": {},
   "outputs": [],
   "source": [
    "df.isnull().sum().sum()"
   ]
  },
  {
   "cell_type": "markdown",
   "metadata": {},
   "source": [
    "# Columns"
   ]
  },
  {
   "cell_type": "code",
   "execution_count": null,
   "metadata": {},
   "outputs": [],
   "source": [
    "df['emotion_type'].value_counts()"
   ]
  },
  {
   "cell_type": "code",
   "execution_count": null,
   "metadata": {},
   "outputs": [],
   "source": [
    "df['experience_type'].value_counts()"
   ]
  },
  {
   "cell_type": "code",
   "execution_count": null,
   "metadata": {},
   "outputs": [],
   "source": [
    "df['problem_type'].value_counts()"
   ]
  },
  {
   "cell_type": "code",
   "execution_count": null,
   "metadata": {},
   "outputs": [],
   "source": [
    "df['survey_score.seeker.empathy'].value_counts() # 1-5"
   ]
  },
  {
   "cell_type": "code",
   "execution_count": null,
   "metadata": {},
   "outputs": [],
   "source": [
    "df['survey_score.seeker.final_emotion_intensity'].value_counts() # 1-4"
   ]
  },
  {
   "cell_type": "code",
   "execution_count": null,
   "metadata": {},
   "outputs": [],
   "source": [
    "df['survey_score.seeker.initial_emotion_intensity'].value_counts() \n",
    "# 1-5 # good to show in pair: initial and final emotion intensity"
   ]
  },
  {
   "cell_type": "code",
   "execution_count": null,
   "metadata": {},
   "outputs": [],
   "source": [
    "df['survey_score.seeker.relevance'].value_counts() # 2-5"
   ]
  },
  {
   "cell_type": "code",
   "execution_count": null,
   "metadata": {},
   "outputs": [],
   "source": [
    "df['survey_score.supporter.relevance'].value_counts() # 0-5"
   ]
  },
  {
   "cell_type": "markdown",
   "metadata": {},
   "source": [
    "# Dialog"
   ]
  },
  {
   "cell_type": "code",
   "execution_count": null,
   "metadata": {},
   "outputs": [],
   "source": [
    "df['dialog'] # dialogs from whole dataset"
   ]
  },
  {
   "cell_type": "code",
   "execution_count": null,
   "metadata": {},
   "outputs": [],
   "source": [
    "df['dialog'][0] # 1st dialog"
   ]
  },
  {
   "cell_type": "code",
   "execution_count": null,
   "metadata": {},
   "outputs": [],
   "source": [
    "df['dialog'][0][0] # one statement with all information about who is talking etc."
   ]
  },
  {
   "cell_type": "code",
   "execution_count": null,
   "metadata": {},
   "outputs": [],
   "source": [
    "df['dialog'][0][0]['content'] # one statement"
   ]
  },
  {
   "cell_type": "code",
   "execution_count": null,
   "metadata": {},
   "outputs": [],
   "source": [
    "df['dialog'][0][1]['content']"
   ]
  },
  {
   "cell_type": "code",
   "execution_count": null,
   "metadata": {},
   "outputs": [],
   "source": [
    "statement = df['dialog'][0]\n",
    "\n",
    "for i in statement:\n",
    "    print(i['content'])"
   ]
  },
  {
   "cell_type": "code",
   "execution_count": null,
   "metadata": {},
   "outputs": [],
   "source": [
    "# remove punctuation\n",
    "def remove_punctuation(text):\n",
    "    no_punct = \"\".join([c for c in text if c not in string.punctuation])\n",
    "    return no_punct"
   ]
  },
  {
   "cell_type": "code",
   "execution_count": null,
   "metadata": {},
   "outputs": [],
   "source": [
    "df['dialog'][0][0]['content']"
   ]
  },
  {
   "cell_type": "code",
   "execution_count": null,
   "metadata": {},
   "outputs": [],
   "source": [
    "for conversation in df['dialog']:\n",
    "    for single_conversation in conversation:\n",
    "        single_conv = single_conversation['content']"
   ]
  },
  {
   "cell_type": "code",
   "execution_count": null,
   "metadata": {},
   "outputs": [],
   "source": [
    "single_conv = single_conv.apply(lambda x: remove_punctuation(x))\n",
    "single_conv.head()"
   ]
  },
  {
   "cell_type": "markdown",
   "metadata": {},
   "source": [
    "# Lexical Dispersion Plot"
   ]
  },
  {
   "cell_type": "code",
   "execution_count": null,
   "metadata": {},
   "outputs": [],
   "source": [
    "first_conv = ''\n",
    "for conversation in df['dialog']:\n",
    "    for single_conversation in conversation:\n",
    "        single_conv = single_conversation['content']\n",
    "        first_conv += single_conv"
   ]
  },
  {
   "cell_type": "code",
   "execution_count": null,
   "metadata": {},
   "outputs": [],
   "source": [
    "first_conv\n",
    "\n",
    "# Convert the string to an NLTK text object\n",
    "text_object = nltk.Text(nltk.word_tokenize(first_conv))\n",
    "\n",
    "# Create the ConcordanceIndex\n",
    "concordance_index = nltk.ConcordanceIndex(text_object)"
   ]
  },
  {
   "cell_type": "code",
   "execution_count": null,
   "metadata": {},
   "outputs": [],
   "source": []
  },
  {
   "cell_type": "code",
   "execution_count": null,
   "metadata": {},
   "outputs": [],
   "source": [
    "file.close()"
   ]
  }
 ],
 "metadata": {
  "kernelspec": {
   "display_name": "Python 3",
   "language": "python",
   "name": "python3"
  },
  "language_info": {
   "codemirror_mode": {
    "name": "ipython",
    "version": 3
   },
   "file_extension": ".py",
   "mimetype": "text/x-python",
   "name": "python",
   "nbconvert_exporter": "python",
   "pygments_lexer": "ipython3",
   "version": "3.8.5"
  }
 },
 "nbformat": 4,
 "nbformat_minor": 2
}
