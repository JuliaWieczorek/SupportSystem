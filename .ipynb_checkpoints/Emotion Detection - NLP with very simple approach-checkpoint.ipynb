{
 "cells": [
  {
   "cell_type": "code",
   "execution_count": 16,
   "metadata": {},
   "outputs": [],
   "source": [
    "import sys\n",
    "import os\n",
    "\n",
    "import csv\n",
    "import json\n",
    "import pandas as pd\n",
    "import numpy as np\n",
    "\n",
    "import seaborn as sns\n",
    "import matplotlib.pyplot as plt\n",
    "import re\n"
   ]
  },
  {
   "cell_type": "code",
   "execution_count": 32,
   "metadata": {},
   "outputs": [],
   "source": [
    "file_path = \"ESConv.json\"\n",
    "\n",
    "with open(file_path, \"r\", encoding=\"utf-8\") as file:\n",
    "    dataset = json.load(file)\n",
    "    \n",
    "# base on the ESConv.json create the pd.DataFrame with Conversation ID and emotion dominate in this ID (emotion taking form the conversation with psychologist)\n",
    "emotion_type_list = []\n",
    "conv_id = 0\n",
    "for corpus in dataset:\n",
    "    conv_id += 1\n",
    "    emotion_type = corpus['emotion_type']\n",
    "    emotion_type_list.append([conv_id, conversation, emotion_type])\n",
    "    \n",
    "emotion_type_df = pd.DataFrame(emotion_type_list, columns=['Conversation ID', 'Conversation', 'Emotion Type'])\n",
    "    "
   ]
  },
  {
   "cell_type": "code",
   "execution_count": 47,
   "metadata": {},
   "outputs": [
    {
     "ename": "TypeError",
     "evalue": "list indices must be integers or slices, not str",
     "output_type": "error",
     "traceback": [
      "\u001b[1;31m---------------------------------------------------------------------------\u001b[0m",
      "\u001b[1;31mTypeError\u001b[0m                                 Traceback (most recent call last)",
      "\u001b[1;32m<ipython-input-47-2742a2158147>\u001b[0m in \u001b[0;36m<module>\u001b[1;34m()\u001b[0m\n\u001b[0;32m     17\u001b[0m     \u001b[1;32mfor\u001b[0m \u001b[0mdialog\u001b[0m \u001b[1;32min\u001b[0m \u001b[0mdialog_list\u001b[0m\u001b[1;33m:\u001b[0m\u001b[1;33m\u001b[0m\u001b[0m\n\u001b[0;32m     18\u001b[0m         \u001b[1;32mif\u001b[0m \u001b[0mdialog\u001b[0m\u001b[1;33m[\u001b[0m\u001b[1;34m'speaker'\u001b[0m\u001b[1;33m]\u001b[0m \u001b[1;33m==\u001b[0m \u001b[1;34m'seeker'\u001b[0m\u001b[1;33m:\u001b[0m\u001b[1;33m\u001b[0m\u001b[0m\n\u001b[1;32m---> 19\u001b[1;33m             \u001b[0mseeker_df\u001b[0m \u001b[1;33m=\u001b[0m \u001b[0mseeker_df\u001b[0m\u001b[1;33m.\u001b[0m\u001b[0mappend\u001b[0m\u001b[1;33m(\u001b[0m\u001b[1;33m{\u001b[0m\u001b[1;34m'ConversationID'\u001b[0m\u001b[1;33m:\u001b[0m \u001b[0mindex\u001b[0m\u001b[1;33m,\u001b[0m \u001b[1;34m'Seeker Dialog'\u001b[0m\u001b[1;33m:\u001b[0m \u001b[0mdialog\u001b[0m\u001b[1;33m[\u001b[0m\u001b[1;34m'content'\u001b[0m\u001b[1;33m]\u001b[0m\u001b[1;33m,\u001b[0m \u001b[1;34m'Emotion Type'\u001b[0m\u001b[1;33m:\u001b[0m \u001b[0memotion_type_list\u001b[0m\u001b[1;33m[\u001b[0m\u001b[0memotion_type\u001b[0m\u001b[1;33m]\u001b[0m\u001b[1;33m}\u001b[0m\u001b[1;33m,\u001b[0m \u001b[0mignore_index\u001b[0m\u001b[1;33m=\u001b[0m\u001b[1;32mTrue\u001b[0m\u001b[1;33m)\u001b[0m\u001b[1;33m\u001b[0m\u001b[0m\n\u001b[0m",
      "\u001b[1;31mTypeError\u001b[0m: list indices must be integers or slices, not str"
     ]
    }
   ],
   "source": [
    "corpus_data = []\n",
    "emotion_type_list = []\n",
    "conv_id = 0\n",
    "\n",
    "for corpus in dataset:\n",
    "    conv_id += 1\n",
    "    dialog = corpus['dialog']\n",
    "    emotion_type = corpus['emotion_type']\n",
    "    emotion_type_list.append([conv_id, emotion_type])\n",
    "    corpus_data.append(dialog)\n",
    "\n",
    "df = pd.DataFrame({'Dialog': pd.Series(corpus_data)})\n",
    "\n",
    "seeker_df = pd.DataFrame(columns=['ConversationID', 'Seeker Dialog', 'Emotion Type'])\n",
    "for index, row in df.iterrows():\n",
    "    dialog_list = row['Dialog']\n",
    "    for dialog in dialog_list:\n",
    "        if dialog['speaker'] == 'seeker':\n",
    "            seeker_df = seeker_df.append({'ConversationID': index, 'Seeker Dialog': dialog['content'], 'Emotion Type': emotion_type_list[emotion_type]}, ignore_index=True)            "
   ]
  },
  {
   "cell_type": "markdown",
   "metadata": {},
   "source": [
    "| Conversation ID | Seeker Dialog | Emotion Type |"
   ]
  },
  {
   "cell_type": "code",
   "execution_count": null,
   "metadata": {
    "collapsed": true
   },
   "outputs": [],
   "source": [
    "def SeekerDialog_EmotionType_toFile():\n",
    "    corpus_data = []\n",
    "    emotion_type_list = []\n",
    "    conv_id = 0\n",
    "\n",
    "    for corpus in dataset:\n",
    "        conv_id += 1\n",
    "        dialog = corpus['dialog']\n",
    "        emotion_type = corpus['emotion_type']\n",
    "        emotion_type_list.append([conv_id, emotion_type])\n",
    "        corpus_data.append(dialog)\n",
    "    df = pd.DataFrame({'Dialog': pd.Series(corpus_data), 'Emotion Type': emotion_type})\n",
    "\n",
    "    for index, row in df.iterrows():\n",
    "        dialog_list = row['Dialog']\n",
    "        for dialog in dialog_list:\n",
    "            if dialog['speaker'] == 'seeker':\n",
    "                seeker_df = seeker_df.append({'ConversationID': index, 'Seeker Dialog': dialog['content'], 'Emotion Type': emotion_type}, ignore_index=True)  \n",
    "     \n",
    "    output_file = 'SeekerDialog_supervised.xlsx'\n",
    "    dataset.to_excel(output_file, index=False)\n",
    "Seeker_Dialog_EmotionType_toFile"
   ]
  },
  {
   "cell_type": "code",
   "execution_count": 77,
   "metadata": {},
   "outputs": [
    {
     "data": {
      "text/html": [
       "<div>\n",
       "<style>\n",
       "    .dataframe thead tr:only-child th {\n",
       "        text-align: right;\n",
       "    }\n",
       "\n",
       "    .dataframe thead th {\n",
       "        text-align: left;\n",
       "    }\n",
       "\n",
       "    .dataframe tbody tr th {\n",
       "        vertical-align: top;\n",
       "    }\n",
       "</style>\n",
       "<table border=\"1\" class=\"dataframe\">\n",
       "  <thead>\n",
       "    <tr style=\"text-align: right;\">\n",
       "      <th></th>\n",
       "      <th>Dialog</th>\n",
       "      <th>Emotion Type</th>\n",
       "    </tr>\n",
       "  </thead>\n",
       "  <tbody>\n",
       "    <tr>\n",
       "      <th>0</th>\n",
       "      <td>[{'speaker': 'seeker', 'annotation': {}, 'cont...</td>\n",
       "      <td>disgust</td>\n",
       "    </tr>\n",
       "    <tr>\n",
       "      <th>1</th>\n",
       "      <td>[{'speaker': 'supporter', 'annotation': {'stra...</td>\n",
       "      <td>disgust</td>\n",
       "    </tr>\n",
       "    <tr>\n",
       "      <th>2</th>\n",
       "      <td>[{'speaker': 'supporter', 'annotation': {'stra...</td>\n",
       "      <td>disgust</td>\n",
       "    </tr>\n",
       "    <tr>\n",
       "      <th>3</th>\n",
       "      <td>[{'speaker': 'supporter', 'annotation': {'stra...</td>\n",
       "      <td>disgust</td>\n",
       "    </tr>\n",
       "    <tr>\n",
       "      <th>4</th>\n",
       "      <td>[{'speaker': 'supporter', 'annotation': {'stra...</td>\n",
       "      <td>disgust</td>\n",
       "    </tr>\n",
       "  </tbody>\n",
       "</table>\n",
       "</div>"
      ],
      "text/plain": [
       "                                              Dialog Emotion Type\n",
       "0  [{'speaker': 'seeker', 'annotation': {}, 'cont...      disgust\n",
       "1  [{'speaker': 'supporter', 'annotation': {'stra...      disgust\n",
       "2  [{'speaker': 'supporter', 'annotation': {'stra...      disgust\n",
       "3  [{'speaker': 'supporter', 'annotation': {'stra...      disgust\n",
       "4  [{'speaker': 'supporter', 'annotation': {'stra...      disgust"
      ]
     },
     "execution_count": 77,
     "metadata": {},
     "output_type": "execute_result"
    }
   ],
   "source": [
    "df.head()"
   ]
  },
  {
   "cell_type": "code",
   "execution_count": null,
   "metadata": {},
   "outputs": [],
   "source": [
    "corpus_data = []\n",
    "emotion_type_list = []\n",
    "conv_id = 0\n",
    "\n",
    "for corpus in dataset:\n",
    "    conv_id += 1\n",
    "    dialog = corpus['dialog']\n",
    "    emotion_type = corpus['emotion_type']\n",
    "    emotion_type_list.append([conv_id, emotion_type])\n",
    "    corpus_data.append(dialog)\n",
    "    \n",
    "df = pd.DataFrame({'Dialog': pd.Series(corpus_data), 'Emotion Type': emotion_type})\n",
    "\n",
    "df['Dialog'].head()\n",
    "#seeker_df = pd.DataFrame(columns=['ConversationID', 'Seeker Dialog', 'Emotion Type'])\n",
    "for index, row in df.iterrows():\n",
    "    dialog_list = row['Dialog']\n",
    "    for dialog in dialog_list:\n",
    "        if dialog['speaker'] == 'seeker':\n",
    "            seeker_df = seeker_df.append({'ConversationID': index, 'Seeker Dialog': dialog['content'], 'Emotion Type': emotion_type}, ignore_index=True)  \n",
    "            \n",
    "#for dialog_id in seeker_df:\n",
    "#    for conv_id in "
   ]
  },
  {
   "cell_type": "code",
   "execution_count": 33,
   "metadata": {
    "collapsed": true
   },
   "outputs": [],
   "source": [
    "def emotionToSentiment(emotion):\n",
    "    \n",
    "    \"\"\" This function will change the type of emotion base on the NRC Emotion Intensity Lexicon to the sentiment (positive/negative)\"\"\"\n",
    "    \n",
    "    # Surprise should be in positive or negative sentiment? check it!!\n",
    "    positive = ['joy', 'surprise', 'trust']\n",
    "    negative = ['anger', 'anticipation', 'disgust', 'fear', 'sadness']\n",
    "    \n",
    "    if emotion in positive:\n",
    "        return 'positive'\n",
    "    else:\n",
    "        return 'negative'"
   ]
  },
  {
   "cell_type": "code",
   "execution_count": 34,
   "metadata": {
    "collapsed": true
   },
   "outputs": [],
   "source": [
    "emotion_type_df['Sentiment'] = emotion_type_df['Emotion Type'].apply(emotionToSentiment)"
   ]
  },
  {
   "cell_type": "code",
   "execution_count": 36,
   "metadata": {},
   "outputs": [
    {
     "data": {
      "text/plain": [
       "anxiety        354\n",
       "depression     334\n",
       "sadness        308\n",
       "anger          111\n",
       "fear            95\n",
       "shame           42\n",
       "disgust         40\n",
       "nervousness     13\n",
       "pain             1\n",
       "guilt            1\n",
       "jealousy         1\n",
       "Name: Emotion Type, dtype: int64"
      ]
     },
     "execution_count": 36,
     "metadata": {},
     "output_type": "execute_result"
    }
   ],
   "source": [
    "emotion_type_df['Emotion Type'].value_counts()"
   ]
  },
  {
   "cell_type": "code",
   "execution_count": 41,
   "metadata": {},
   "outputs": [
    {
     "data": {
      "text/html": [
       "<div>\n",
       "<style>\n",
       "    .dataframe thead tr:only-child th {\n",
       "        text-align: right;\n",
       "    }\n",
       "\n",
       "    .dataframe thead th {\n",
       "        text-align: left;\n",
       "    }\n",
       "\n",
       "    .dataframe tbody tr th {\n",
       "        vertical-align: top;\n",
       "    }\n",
       "</style>\n",
       "<table border=\"1\" class=\"dataframe\">\n",
       "  <thead>\n",
       "    <tr style=\"text-align: right;\">\n",
       "      <th></th>\n",
       "      <th>Conversation ID</th>\n",
       "      <th>Emotion Type</th>\n",
       "      <th>Sentiment</th>\n",
       "      <th>label_num</th>\n",
       "    </tr>\n",
       "  </thead>\n",
       "  <tbody>\n",
       "    <tr>\n",
       "      <th>0</th>\n",
       "      <td>1</td>\n",
       "      <td>anxiety</td>\n",
       "      <td>negative</td>\n",
       "      <td>0.0</td>\n",
       "    </tr>\n",
       "    <tr>\n",
       "      <th>1</th>\n",
       "      <td>2</td>\n",
       "      <td>anger</td>\n",
       "      <td>negative</td>\n",
       "      <td>3.0</td>\n",
       "    </tr>\n",
       "    <tr>\n",
       "      <th>2</th>\n",
       "      <td>3</td>\n",
       "      <td>fear</td>\n",
       "      <td>negative</td>\n",
       "      <td>4.0</td>\n",
       "    </tr>\n",
       "    <tr>\n",
       "      <th>3</th>\n",
       "      <td>4</td>\n",
       "      <td>depression</td>\n",
       "      <td>negative</td>\n",
       "      <td>1.0</td>\n",
       "    </tr>\n",
       "    <tr>\n",
       "      <th>4</th>\n",
       "      <td>5</td>\n",
       "      <td>depression</td>\n",
       "      <td>negative</td>\n",
       "      <td>1.0</td>\n",
       "    </tr>\n",
       "  </tbody>\n",
       "</table>\n",
       "</div>"
      ],
      "text/plain": [
       "   Conversation ID Emotion Type Sentiment  label_num\n",
       "0                1      anxiety  negative        0.0\n",
       "1                2        anger  negative        3.0\n",
       "2                3         fear  negative        4.0\n",
       "3                4   depression  negative        1.0\n",
       "4                5   depression  negative        1.0"
      ]
     },
     "execution_count": 41,
     "metadata": {},
     "output_type": "execute_result"
    }
   ],
   "source": [
    "emotion_type_df['label_num'] = emotion_type_df['Emotion Type'].map({\n",
    "    'anxiety':0,\n",
    "    'depression':1,\n",
    "    'sadness':2, \n",
    "    'anger':3,\n",
    "    'fear':4,\n",
    "    'shame':5,\n",
    "    'disgust':6,\n",
    "    'nervousness':7,\n",
    "    'pain':8,\n",
    "    'guilt':9})\n",
    "\n",
    "\n",
    "emotion_type_df.head(5)"
   ]
  },
  {
   "cell_type": "code",
   "execution_count": 42,
   "metadata": {},
   "outputs": [
    {
     "ename": "NameError",
     "evalue": "name 'df' is not defined",
     "output_type": "error",
     "traceback": [
      "\u001b[1;31m---------------------------------------------------------------------------\u001b[0m",
      "\u001b[1;31mNameError\u001b[0m                                 Traceback (most recent call last)",
      "\u001b[1;32m<ipython-input-42-cd11a726b998>\u001b[0m in \u001b[0;36m<module>\u001b[1;34m()\u001b[0m\n\u001b[0;32m      1\u001b[0m \u001b[1;32mfrom\u001b[0m \u001b[0msklearn\u001b[0m\u001b[1;33m.\u001b[0m\u001b[0mmodel_selection\u001b[0m \u001b[1;32mimport\u001b[0m \u001b[0mtrain_test_split\u001b[0m\u001b[1;33m\u001b[0m\u001b[0m\n\u001b[1;32m----> 2\u001b[1;33m \u001b[0mX_train\u001b[0m\u001b[1;33m,\u001b[0m\u001b[0mX_test\u001b[0m\u001b[1;33m,\u001b[0m\u001b[0my_train\u001b[0m\u001b[1;33m,\u001b[0m\u001b[0my_test\u001b[0m \u001b[1;33m=\u001b[0m \u001b[0mtrain_test_split\u001b[0m\u001b[1;33m(\u001b[0m\u001b[0mdf\u001b[0m\u001b[1;33m.\u001b[0m\u001b[0mDescription\u001b[0m\u001b[1;33m,\u001b[0m\u001b[0mdf\u001b[0m\u001b[1;33m.\u001b[0m\u001b[0mlabel_num\u001b[0m\u001b[1;33m,\u001b[0m\u001b[0mtest_size\u001b[0m\u001b[1;33m=\u001b[0m\u001b[1;36m0.2\u001b[0m\u001b[1;33m)\u001b[0m\u001b[1;33m\u001b[0m\u001b[0m\n\u001b[0m",
      "\u001b[1;31mNameError\u001b[0m: name 'df' is not defined"
     ]
    }
   ],
   "source": [
    "from sklearn.model_selection import train_test_split\n",
    "X_train,X_test,y_train,y_test = train_test_split(emotion_type_df.Description,emotion_type_df.label_num,test_size=0.2)"
   ]
  },
  {
   "cell_type": "code",
   "execution_count": null,
   "metadata": {
    "collapsed": true
   },
   "outputs": [],
   "source": []
  }
 ],
 "metadata": {
  "kernelspec": {
   "display_name": "Python 3",
   "language": "python",
   "name": "python3"
  },
  "language_info": {
   "codemirror_mode": {
    "name": "ipython",
    "version": 3
   },
   "file_extension": ".py",
   "mimetype": "text/x-python",
   "name": "python",
   "nbconvert_exporter": "python",
   "pygments_lexer": "ipython3",
   "version": "3.6.1"
  }
 },
 "nbformat": 4,
 "nbformat_minor": 2
}
