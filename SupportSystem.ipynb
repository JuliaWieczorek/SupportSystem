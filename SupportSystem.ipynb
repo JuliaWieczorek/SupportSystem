{
 "cells": [
  {
   "cell_type": "code",
   "execution_count": 2,
   "metadata": {},
   "outputs": [],
   "source": [
    "import json\n",
    "\n",
    "file_path = \"ESConv.json\"\n",
    "\n",
    "with open(file_path, \"r\", encoding=\"utf-8\") as file:\n",
    "    dataset = json.load(file)"
   ]
  },
  {
   "cell_type": "code",
   "execution_count": 4,
   "metadata": {},
   "outputs": [
    {
     "name": "stdout",
     "output_type": "stream",
     "text": [
      "{'experience_type': 'Previous Experience', 'emotion_type': 'anxiety', 'problem_type': 'job crisis', 'situation': 'I hate my job but I am scared to quit and seek a new career.', 'survey_score': {'seeker': {'initial_emotion_intensity': '5', 'empathy': '5', 'relevance': '5', 'final_emotion_intensity': '1'}, 'supporter': {'relevance': '5'}}, 'dialog': [{'speaker': 'seeker', 'annotation': {}, 'content': 'Hello\\n'}, {'speaker': 'supporter', 'annotation': {'strategy': 'Question'}, 'content': 'Hello, what would you like to talk about?'}, {'speaker': 'seeker', 'annotation': {}, 'content': 'I am having a lot of anxiety about quitting my current job. It is too stressful but pays well\\n'}, {'speaker': 'supporter', 'annotation': {'strategy': 'Question'}, 'content': 'What makes your job stressful for you?'}, {'speaker': 'seeker', 'annotation': {'feedback': '5'}, 'content': 'I have to deal with many people in hard financial situations and it is upsetting \\n'}, {'speaker': 'supporter', 'annotation': {'strategy': 'Question'}, 'content': 'Do you help your clients to make it to a better financial situation?'}, {'speaker': 'seeker', 'annotation': {}, 'content': 'I do, but often they are not going to get back to what they want. Many people are going to lose their home when safeguards are lifted \\n'}, {'speaker': 'supporter', 'annotation': {'strategy': 'Affirmation and Reassurance'}, 'content': 'But you offer them a better future than what they have currently. It may not be what they wanted, but it helps them in the long run.'}, {'speaker': 'seeker', 'annotation': {'feedback': '5'}, 'content': 'That is true but sometimes I feel like I should put my feelings and health first \\n'}, {'speaker': 'supporter', 'annotation': {'strategy': 'Affirmation and Reassurance'}, 'content': 'I can understand that. '}, {'speaker': 'supporter', 'annotation': {'strategy': 'Question'}, 'content': 'Is there another job that would pay you close to what you currently make?'}, {'speaker': 'seeker', 'annotation': {'feedback': '5'}, 'content': 'Probably not. I was with the same company for a long time and I consistently get a bonus every year '}, {'speaker': 'supporter', 'annotation': {'strategy': 'Others'}, 'content': \"Is it possible to reframe how you look at your clients' dire financial situations?\"}, {'speaker': 'seeker', 'annotation': {}, 'content': 'I could try. It mostly gets to me at the end of the day \\n'}, {'speaker': 'supporter', 'annotation': {'strategy': 'Information'}, 'content': \"Some people can't do what you do because they don't have the heart to give someone else bad news. The reality is though, someone needs to fill that role and you do help people\"}, {'speaker': 'seeker', 'annotation': {'feedback': '4'}, 'content': 'That is also true. Sometimes I wonder if it really is for me though  \\n'}, {'speaker': 'supporter', 'annotation': {'strategy': 'Self-disclosure'}, 'content': \"I've had to deal with collections before when I was in  bad financial condition. The person on the other line was really helpful though. She was understanding,\"}, {'speaker': 'supporter', 'annotation': {'strategy': 'Providing Suggestions'}, 'content': 'It may not be for you. I think you should think about the pros and cons of keeping your position. It might make things clearer for you. '}, {'speaker': 'seeker', 'annotation': {'feedback': '5'}, 'content': 'That is true. Maybe I just need to sit down and really think about it \\n'}, {'speaker': 'supporter', 'annotation': {'strategy': 'Restatement or Paraphrasing'}, 'content': \"I wouldn't stay if it really impacts your mental health in a negative way. Still, you may need to zoom out and see the bigger picture: that you provide a needed service and you do it compassionately\"}, {'speaker': 'seeker', 'annotation': {}, 'content': 'It really is a big decision \\n'}, {'speaker': 'seeker', 'annotation': {}, 'content': 'Thank you for the different perspective \\n'}, {'speaker': 'supporter', 'annotation': {'strategy': 'Affirmation and Reassurance'}, 'content': 'No doubt, but you know in your heart what is right for you. '}, {'speaker': 'seeker', 'annotation': {'feedback': '4'}, 'content': 'That is true. Thanks again \\n'}, {'speaker': 'seeker', 'annotation': {}, 'content': 'Bye\\n'}, {'speaker': 'supporter', 'annotation': {'strategy': 'Affirmation and Reassurance'}, 'content': \"It's no problem. I hope you can make a decision about this situation and then be at peace with it\"}, {'speaker': 'supporter', 'annotation': {'strategy': 'Others'}, 'content': 'Ok, take care'}], 'seeker_question1': 'Partner was very supportive', 'seeker_question2': 'More guidance in conversation or examples', 'supporter_question1': '', 'supporter_question2': ''}\n"
     ]
    }
   ],
   "source": [
    "# Access and print the first conversation\n",
    "conversation = dataset[0]\n",
    "print(conversation)"
   ]
  },
  {
   "cell_type": "code",
   "execution_count": 12,
   "metadata": {
    "collapsed": true
   },
   "outputs": [],
   "source": [
    "# Access specific fields within the conversation\n",
    "experience_type = conversation[\"experience_type\"]\n",
    "emotion_type = conversation[\"emotion_type\"]\n",
    "problem_type = conversation[\"problem_type\"]\n",
    "situation = conversation[\"situation\"]\n",
    "survey_score = conversation[\"survey_score\"]\n",
    "survey_score_seeker = conversation[\"survey_score\"][\"seeker\"]\n",
    "survey_score_supporter = conversation[\"survey_score\"][\"supporter\"]\n",
    "dialog = conversation[\"dialog\"]"
   ]
  },
  {
   "cell_type": "code",
   "execution_count": 6,
   "metadata": {},
   "outputs": [
    {
     "data": {
      "text/plain": [
       "'Previous Experience'"
      ]
     },
     "execution_count": 6,
     "metadata": {},
     "output_type": "execute_result"
    }
   ],
   "source": [
    "experience_type"
   ]
  },
  {
   "cell_type": "code",
   "execution_count": 7,
   "metadata": {},
   "outputs": [
    {
     "data": {
      "text/plain": [
       "'anxiety'"
      ]
     },
     "execution_count": 7,
     "metadata": {},
     "output_type": "execute_result"
    }
   ],
   "source": [
    "emotion_type"
   ]
  },
  {
   "cell_type": "code",
   "execution_count": 8,
   "metadata": {},
   "outputs": [
    {
     "data": {
      "text/plain": [
       "'job crisis'"
      ]
     },
     "execution_count": 8,
     "metadata": {},
     "output_type": "execute_result"
    }
   ],
   "source": [
    "problem_type"
   ]
  },
  {
   "cell_type": "code",
   "execution_count": 9,
   "metadata": {},
   "outputs": [
    {
     "data": {
      "text/plain": [
       "'I hate my job but I am scared to quit and seek a new career.'"
      ]
     },
     "execution_count": 9,
     "metadata": {},
     "output_type": "execute_result"
    }
   ],
   "source": [
    "situation"
   ]
  },
  {
   "cell_type": "code",
   "execution_count": 10,
   "metadata": {},
   "outputs": [
    {
     "data": {
      "text/plain": [
       "{'seeker': {'empathy': '5',\n",
       "  'final_emotion_intensity': '1',\n",
       "  'initial_emotion_intensity': '5',\n",
       "  'relevance': '5'},\n",
       " 'supporter': {'relevance': '5'}}"
      ]
     },
     "execution_count": 10,
     "metadata": {},
     "output_type": "execute_result"
    }
   ],
   "source": [
    "survey_score"
   ]
  },
  {
   "cell_type": "code",
   "execution_count": 13,
   "metadata": {},
   "outputs": [
    {
     "data": {
      "text/plain": [
       "{'empathy': '5',\n",
       " 'final_emotion_intensity': '1',\n",
       " 'initial_emotion_intensity': '5',\n",
       " 'relevance': '5'}"
      ]
     },
     "execution_count": 13,
     "metadata": {},
     "output_type": "execute_result"
    }
   ],
   "source": [
    "survey_score_seeker"
   ]
  },
  {
   "cell_type": "code",
   "execution_count": 14,
   "metadata": {},
   "outputs": [
    {
     "data": {
      "text/plain": [
       "{'relevance': '5'}"
      ]
     },
     "execution_count": 14,
     "metadata": {},
     "output_type": "execute_result"
    }
   ],
   "source": [
    "survey_score_supporter"
   ]
  },
  {
   "cell_type": "code",
   "execution_count": 15,
   "metadata": {},
   "outputs": [
    {
     "data": {
      "text/plain": [
       "[{'annotation': {}, 'content': 'Hello\\n', 'speaker': 'seeker'},\n",
       " {'annotation': {'strategy': 'Question'},\n",
       "  'content': 'Hello, what would you like to talk about?',\n",
       "  'speaker': 'supporter'},\n",
       " {'annotation': {},\n",
       "  'content': 'I am having a lot of anxiety about quitting my current job. It is too stressful but pays well\\n',\n",
       "  'speaker': 'seeker'},\n",
       " {'annotation': {'strategy': 'Question'},\n",
       "  'content': 'What makes your job stressful for you?',\n",
       "  'speaker': 'supporter'},\n",
       " {'annotation': {'feedback': '5'},\n",
       "  'content': 'I have to deal with many people in hard financial situations and it is upsetting \\n',\n",
       "  'speaker': 'seeker'},\n",
       " {'annotation': {'strategy': 'Question'},\n",
       "  'content': 'Do you help your clients to make it to a better financial situation?',\n",
       "  'speaker': 'supporter'},\n",
       " {'annotation': {},\n",
       "  'content': 'I do, but often they are not going to get back to what they want. Many people are going to lose their home when safeguards are lifted \\n',\n",
       "  'speaker': 'seeker'},\n",
       " {'annotation': {'strategy': 'Affirmation and Reassurance'},\n",
       "  'content': 'But you offer them a better future than what they have currently. It may not be what they wanted, but it helps them in the long run.',\n",
       "  'speaker': 'supporter'},\n",
       " {'annotation': {'feedback': '5'},\n",
       "  'content': 'That is true but sometimes I feel like I should put my feelings and health first \\n',\n",
       "  'speaker': 'seeker'},\n",
       " {'annotation': {'strategy': 'Affirmation and Reassurance'},\n",
       "  'content': 'I can understand that. ',\n",
       "  'speaker': 'supporter'},\n",
       " {'annotation': {'strategy': 'Question'},\n",
       "  'content': 'Is there another job that would pay you close to what you currently make?',\n",
       "  'speaker': 'supporter'},\n",
       " {'annotation': {'feedback': '5'},\n",
       "  'content': 'Probably not. I was with the same company for a long time and I consistently get a bonus every year ',\n",
       "  'speaker': 'seeker'},\n",
       " {'annotation': {'strategy': 'Others'},\n",
       "  'content': \"Is it possible to reframe how you look at your clients' dire financial situations?\",\n",
       "  'speaker': 'supporter'},\n",
       " {'annotation': {},\n",
       "  'content': 'I could try. It mostly gets to me at the end of the day \\n',\n",
       "  'speaker': 'seeker'},\n",
       " {'annotation': {'strategy': 'Information'},\n",
       "  'content': \"Some people can't do what you do because they don't have the heart to give someone else bad news. The reality is though, someone needs to fill that role and you do help people\",\n",
       "  'speaker': 'supporter'},\n",
       " {'annotation': {'feedback': '4'},\n",
       "  'content': 'That is also true. Sometimes I wonder if it really is for me though  \\n',\n",
       "  'speaker': 'seeker'},\n",
       " {'annotation': {'strategy': 'Self-disclosure'},\n",
       "  'content': \"I've had to deal with collections before when I was in  bad financial condition. The person on the other line was really helpful though. She was understanding,\",\n",
       "  'speaker': 'supporter'},\n",
       " {'annotation': {'strategy': 'Providing Suggestions'},\n",
       "  'content': 'It may not be for you. I think you should think about the pros and cons of keeping your position. It might make things clearer for you. ',\n",
       "  'speaker': 'supporter'},\n",
       " {'annotation': {'feedback': '5'},\n",
       "  'content': 'That is true. Maybe I just need to sit down and really think about it \\n',\n",
       "  'speaker': 'seeker'},\n",
       " {'annotation': {'strategy': 'Restatement or Paraphrasing'},\n",
       "  'content': \"I wouldn't stay if it really impacts your mental health in a negative way. Still, you may need to zoom out and see the bigger picture: that you provide a needed service and you do it compassionately\",\n",
       "  'speaker': 'supporter'},\n",
       " {'annotation': {},\n",
       "  'content': 'It really is a big decision \\n',\n",
       "  'speaker': 'seeker'},\n",
       " {'annotation': {},\n",
       "  'content': 'Thank you for the different perspective \\n',\n",
       "  'speaker': 'seeker'},\n",
       " {'annotation': {'strategy': 'Affirmation and Reassurance'},\n",
       "  'content': 'No doubt, but you know in your heart what is right for you. ',\n",
       "  'speaker': 'supporter'},\n",
       " {'annotation': {'feedback': '4'},\n",
       "  'content': 'That is true. Thanks again \\n',\n",
       "  'speaker': 'seeker'},\n",
       " {'annotation': {}, 'content': 'Bye\\n', 'speaker': 'seeker'},\n",
       " {'annotation': {'strategy': 'Affirmation and Reassurance'},\n",
       "  'content': \"It's no problem. I hope you can make a decision about this situation and then be at peace with it\",\n",
       "  'speaker': 'supporter'},\n",
       " {'annotation': {'strategy': 'Others'},\n",
       "  'content': 'Ok, take care',\n",
       "  'speaker': 'supporter'}]"
      ]
     },
     "execution_count": 15,
     "metadata": {},
     "output_type": "execute_result"
    }
   ],
   "source": [
    "dialog"
   ]
  },
  {
   "cell_type": "code",
   "execution_count": 16,
   "metadata": {},
   "outputs": [
    {
     "name": "stdout",
     "output_type": "stream",
     "text": [
      "seeker: Hello\n",
      "\n",
      "supporter: Hello, what would you like to talk about?\n",
      "seeker: I am having a lot of anxiety about quitting my current job. It is too stressful but pays well\n",
      "\n",
      "supporter: What makes your job stressful for you?\n",
      "seeker: I have to deal with many people in hard financial situations and it is upsetting \n",
      "\n",
      "supporter: Do you help your clients to make it to a better financial situation?\n",
      "seeker: I do, but often they are not going to get back to what they want. Many people are going to lose their home when safeguards are lifted \n",
      "\n",
      "supporter: But you offer them a better future than what they have currently. It may not be what they wanted, but it helps them in the long run.\n",
      "seeker: That is true but sometimes I feel like I should put my feelings and health first \n",
      "\n",
      "supporter: I can understand that. \n",
      "supporter: Is there another job that would pay you close to what you currently make?\n",
      "seeker: Probably not. I was with the same company for a long time and I consistently get a bonus every year \n",
      "supporter: Is it possible to reframe how you look at your clients' dire financial situations?\n",
      "seeker: I could try. It mostly gets to me at the end of the day \n",
      "\n",
      "supporter: Some people can't do what you do because they don't have the heart to give someone else bad news. The reality is though, someone needs to fill that role and you do help people\n",
      "seeker: That is also true. Sometimes I wonder if it really is for me though  \n",
      "\n",
      "supporter: I've had to deal with collections before when I was in  bad financial condition. The person on the other line was really helpful though. She was understanding,\n",
      "supporter: It may not be for you. I think you should think about the pros and cons of keeping your position. It might make things clearer for you. \n",
      "seeker: That is true. Maybe I just need to sit down and really think about it \n",
      "\n",
      "supporter: I wouldn't stay if it really impacts your mental health in a negative way. Still, you may need to zoom out and see the bigger picture: that you provide a needed service and you do it compassionately\n",
      "seeker: It really is a big decision \n",
      "\n",
      "seeker: Thank you for the different perspective \n",
      "\n",
      "supporter: No doubt, but you know in your heart what is right for you. \n",
      "seeker: That is true. Thanks again \n",
      "\n",
      "seeker: Bye\n",
      "\n",
      "supporter: It's no problem. I hope you can make a decision about this situation and then be at peace with it\n",
      "supporter: Ok, take care\n"
     ]
    }
   ],
   "source": [
    "dialog = conversation[\"dialog\"]\n",
    "for message in dialog:\n",
    "    speaker = message[\"speaker\"]\n",
    "    content = message[\"content\"]\n",
    "    print(f\"{speaker}: {content}\")"
   ]
  },
  {
   "cell_type": "code",
   "execution_count": 17,
   "metadata": {},
   "outputs": [
    {
     "name": "stdout",
     "output_type": "stream",
     "text": [
      "Seeker's question 1: Partner was very supportive\n",
      "Supporter's question 2: \n"
     ]
    }
   ],
   "source": [
    "# Access the seeker's first question\n",
    "seeker_question1 = conversation[\"seeker_question1\"]\n",
    "print(\"Seeker's question 1:\", seeker_question1)\n",
    "\n",
    "# Access the supporter's second question\n",
    "supporter_question2 = conversation[\"supporter_question2\"]\n",
    "print(\"Supporter's question 2:\", supporter_question2)"
   ]
  },
  {
   "cell_type": "code",
   "execution_count": 22,
   "metadata": {},
   "outputs": [
    {
     "name": "stdout",
     "output_type": "stream",
     "text": [
      "                                              dialog emotion_type  \\\n",
      "0  [{'speaker': 'seeker', 'annotation': {}, 'cont...      anxiety   \n",
      "1  [{'speaker': 'supporter', 'annotation': {'stra...        anger   \n",
      "2  [{'speaker': 'supporter', 'annotation': {'stra...         fear   \n",
      "3  [{'speaker': 'supporter', 'annotation': {'stra...   depression   \n",
      "4  [{'speaker': 'supporter', 'annotation': {'stra...   depression   \n",
      "\n",
      "       experience_type           problem_type             seeker_question1  \\\n",
      "0  Previous Experience             job crisis  Partner was very supportive   \n",
      "1   Current Experience  problems with friends                                \n",
      "2   Current Experience             job crisis                           no   \n",
      "3   Current Experience     ongoing depression                           No   \n",
      "4   Current Experience   breakup with partner                Good exercise   \n",
      "\n",
      "                            seeker_question2  \\\n",
      "0  More guidance in conversation or examples   \n",
      "1                                              \n",
      "2                                        no    \n",
      "3                                         No   \n",
      "4                                         no   \n",
      "\n",
      "                                           situation supporter_question1  \\\n",
      "0  I hate my job but I am scared to quit and seek...                       \n",
      "1  I have complete unsupportive friends its to th...       It was simple   \n",
      "2  I have been out of work for five weeks in quar...                       \n",
      "3           I am depressed staying home due to COVID                       \n",
      "4  I found out that my boyfriend had been lying t...                       \n",
      "\n",
      "                                supporter_question2  \\\n",
      "0                                                     \n",
      "1  The middle screen hover function gets in the way   \n",
      "2                                                     \n",
      "3                                                     \n",
      "4                                                     \n",
      "\n",
      "  survey_score.seeker.empathy survey_score.seeker.final_emotion_intensity  \\\n",
      "0                           5                                           1   \n",
      "1                           5                                           1   \n",
      "2                           5                                           2   \n",
      "3                           4                                           3   \n",
      "4                           4                                           4   \n",
      "\n",
      "  survey_score.seeker.initial_emotion_intensity survey_score.seeker.relevance  \\\n",
      "0                                             5                             5   \n",
      "1                                             5                             5   \n",
      "2                                             4                             5   \n",
      "3                                             4                             4   \n",
      "4                                             5                             5   \n",
      "\n",
      "  survey_score.supporter.relevance  \n",
      "0                                5  \n",
      "1                                4  \n",
      "2                                5  \n",
      "3                                5  \n",
      "4                                5  \n"
     ]
    }
   ],
   "source": [
    "# Convert JSON data to a DataFrame\n",
    "import pandas as pd\n",
    "\n",
    "df = pd.io.json.json_normalize(dataset)\n",
    "print(df.head(5))"
   ]
  },
  {
   "cell_type": "code",
   "execution_count": 24,
   "metadata": {},
   "outputs": [
    {
     "name": "stdout",
     "output_type": "stream",
     "text": [
      "<class 'pandas.core.frame.DataFrame'>\n",
      "RangeIndex: 1300 entries, 0 to 1299\n",
      "Data columns (total 14 columns):\n",
      "dialog                                           1300 non-null object\n",
      "emotion_type                                     1300 non-null object\n",
      "experience_type                                  1300 non-null object\n",
      "problem_type                                     1300 non-null object\n",
      "seeker_question1                                 1300 non-null object\n",
      "seeker_question2                                 1300 non-null object\n",
      "situation                                        1300 non-null object\n",
      "supporter_question1                              1300 non-null object\n",
      "supporter_question2                              1300 non-null object\n",
      "survey_score.seeker.empathy                      1150 non-null object\n",
      "survey_score.seeker.final_emotion_intensity      1150 non-null object\n",
      "survey_score.seeker.initial_emotion_intensity    1300 non-null object\n",
      "survey_score.seeker.relevance                    1150 non-null object\n",
      "survey_score.supporter.relevance                 1115 non-null object\n",
      "dtypes: object(14)\n",
      "memory usage: 142.3+ KB\n"
     ]
    }
   ],
   "source": [
    "df.info() # different sizes"
   ]
  },
  {
   "cell_type": "code",
   "execution_count": null,
   "metadata": {
    "collapsed": true
   },
   "outputs": [],
   "source": []
  },
  {
   "cell_type": "code",
   "execution_count": null,
   "metadata": {
    "collapsed": true
   },
   "outputs": [],
   "source": [
    "file.close()"
   ]
  }
 ],
 "metadata": {
  "kernelspec": {
   "display_name": "Python 3",
   "language": "python",
   "name": "python3"
  },
  "language_info": {
   "codemirror_mode": {
    "name": "ipython",
    "version": 3
   },
   "file_extension": ".py",
   "mimetype": "text/x-python",
   "name": "python",
   "nbconvert_exporter": "python",
   "pygments_lexer": "ipython3",
   "version": "3.6.1"
  }
 },
 "nbformat": 4,
 "nbformat_minor": 2
}
